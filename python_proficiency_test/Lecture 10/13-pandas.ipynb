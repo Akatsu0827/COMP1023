{
 "cells": [
  {
   "cell_type": "code",
   "execution_count": 1,
   "id": "d62c6e33",
   "metadata": {},
   "outputs": [
    {
     "name": "stdout",
     "output_type": "stream",
     "text": [
      "0    10\n",
      "1    20\n",
      "2    30\n",
      "3    40\n",
      "dtype: int64\n",
      "first     10\n",
      "second    20\n",
      "third     30\n",
      "fourth    40\n",
      "dtype: int64\n",
      "first     10\n",
      "second    20\n",
      "third     30\n",
      "fourth    40\n",
      "dtype: int64\n"
     ]
    }
   ],
   "source": [
    "# Filename: series_create.py\n",
    "    \n",
    "import pandas as pd\n",
    "\n",
    "# Creating a Series without specifying an index\n",
    "s1 = pd.Series([10, 20, 30, 40])\n",
    "print(s1)\n",
    "\n",
    "# Creating a Series with a custom index\n",
    "s2 = pd.Series([10, 20, 30, 40], \n",
    "               index=['first', 'second', 'third', 'fourth'])\n",
    "print(s2)\n",
    "\n",
    "# Creating a Series from a dictionary\n",
    "data = {'first': 10, 'second': 20, 'third': 30, 'fourth': 40}\n",
    "s3 = pd.Series(data)\n",
    "print(s3)"
   ]
  },
  {
   "cell_type": "code",
   "execution_count": 3,
   "id": "28cdf0a5",
   "metadata": {},
   "outputs": [
    {
     "name": "stdout",
     "output_type": "stream",
     "text": [
      "20\n",
      "30\n"
     ]
    }
   ],
   "source": [
    "# Filename: series_access_elements.py\n",
    "\n",
    "import pandas as pd\n",
    "\n",
    "# Create a series with specific index\n",
    "s = pd.Series([10, 20, 30, 40], index=['first', 'second', 'third', 'fourth'])\n",
    "\n",
    "# Access the element by label (element associated with index 'second')\n",
    "e1 = s.loc['second']\n",
    "print(e1)  # Print 20\n",
    "\n",
    "# Access the element in position 2 (3rd element)\n",
    "e2 = s.iloc[2]\n",
    "print(e2)  # Print 30"
   ]
  },
  {
   "cell_type": "code",
   "execution_count": 4,
   "id": "5e8dd40c",
   "metadata": {},
   "outputs": [
    {
     "name": "stdout",
     "output_type": "stream",
     "text": [
      "[10 20 30 40]\n",
      "Index(['first', 'second', 'third', 'fourth'], dtype='object')\n"
     ]
    }
   ],
   "source": [
    "# Filename: series_access_values_index.py\n",
    "\n",
    "import pandas as pd\n",
    "\n",
    "# Create a series with specific index\n",
    "s = pd.Series([10, 20, 30, 40], index=['first', 'second', 'third', 'fourth'])\n",
    "print(s.values)  # Return a NumPy array\n",
    "print(s.index)   # Return an Index object"
   ]
  },
  {
   "cell_type": "code",
   "execution_count": 5,
   "id": "23733b75",
   "metadata": {},
   "outputs": [
    {
     "name": "stdout",
     "output_type": "stream",
     "text": [
      "10\n",
      "10\n",
      "first     10\n",
      "second    50\n",
      "third     30\n",
      "dtype: int64\n"
     ]
    }
   ],
   "source": [
    "# Filename: series_assign_values.py        \n",
    "import pandas as pd\n",
    "\n",
    "# Create a series with specific index\n",
    "s = pd.Series([10, 20, 30], index=['first', 'second', 'third'])\n",
    "print(s.loc['first'])  # Access with explicit index\n",
    "print(s.iloc[0])       # Access with implicit index\n",
    "s.loc['second'] = 50   # Assign a new value\n",
    "print(s)"
   ]
  },
  {
   "cell_type": "code",
   "execution_count": 6,
   "id": "a0434781",
   "metadata": {},
   "outputs": [
    {
     "name": "stdout",
     "output_type": "stream",
     "text": [
      "third     30\n",
      "fourth    40\n",
      "fifth     50\n",
      "dtype: int64\n",
      "third     30\n",
      "fourth    40\n",
      "fifth     50\n",
      "dtype: int64\n"
     ]
    }
   ],
   "source": [
    "# Filename: series_slicing.py        \n",
    "import pandas as pd\n",
    "\n",
    "s = pd.Series([10, 20, 30, 40, 50, 60], \n",
    "       index=['first', 'second', 'third', 'fourth', 'fifth', 'sixth'])\n",
    "# Slicing with explicit index (both included)              \n",
    "print(s.loc['third':'fifth'])\n",
    "# Slicing with implicit index \n",
    "# (start included and stop excluded)\n",
    "print(s.iloc[2:5])"
   ]
  },
  {
   "cell_type": "code",
   "execution_count": 8,
   "id": "51e5c5b8",
   "metadata": {},
   "outputs": [
    {
     "name": "stdout",
     "output_type": "stream",
     "text": [
      "a    False\n",
      "b     True\n",
      "c     True\n",
      "d    False\n",
      "e    False\n",
      "dtype: bool\n",
      "b    15\n",
      "c    25\n",
      "dtype: int64\n",
      "a    10\n",
      "b     0\n",
      "c     0\n",
      "d     5\n",
      "e    30\n",
      "dtype: int64\n"
     ]
    }
   ],
   "source": [
    "# Filename: series_masking.py        \n",
    "import pandas as pd\n",
    "\n",
    "s = pd.Series([10, 15, 25, 5, 30], \n",
    "              index=['a', 'b', 'c', 'd', 'e'])\n",
    "mask = (s > 10) & (s < 30)  # Create a mask for values between 10 and 30\n",
    "print(mask)\n",
    "print(s[mask])  # Apply the mask to the series\n",
    "s[mask] = 0  # Modify elements of s where mask is True\n",
    "print(s)"
   ]
  },
  {
   "cell_type": "code",
   "execution_count": 1,
   "id": "4391e549",
   "metadata": {},
   "outputs": [
    {
     "name": "stdout",
     "output_type": "stream",
     "text": [
      "first    10\n",
      "third    30\n",
      "dtype: int64\n",
      "first     10\n",
      "second    20\n",
      "dtype: int64\n"
     ]
    }
   ],
   "source": [
    "# Filename: series_fancy_indexing.py        \n",
    "import pandas as pd\n",
    "\n",
    "s = pd.Series([10, 20, 30, 40, 50], \n",
    "              index=['first', 'second', 'third', 'fourth', 'fifth'])\n",
    "print(s.loc[['first', 'third']])  # Access indices 'first' and 'third'\n",
    "print(s.iloc[0:2])             # Access positions 0 and 2"
   ]
  },
  {
   "cell_type": "code",
   "execution_count": 2,
   "id": "092d88ee",
   "metadata": {},
   "outputs": [
    {
     "name": "stdout",
     "output_type": "stream",
     "text": [
      "           Sales  Cost  Units Sold\n",
      "Product A    100    80          20\n",
      "Product B    150    90          30\n",
      "Product C    200   120          15\n"
     ]
    }
   ],
   "source": [
    "# DataFrame\n",
    "\n",
    "# Powerful 2-dimensional data structure in Pandas, similar to spreadsheet or SQL table.\n",
    "# Consists of rows and columns, each column can be of different data type.\n",
    "# Each column have unique name, which allows for easy access and manipulation of data.\n",
    "\n",
    "# Filename: dataframe_create1.py   \n",
    "import pandas as pd\n",
    "\n",
    "sales = pd.Series([100, 150, 200], index=['Product A', 'Product B', 'Product C'])\n",
    "cost = pd.Series([80, 90, 120], index=['Product A', 'Product B', 'Product C'])\n",
    "units_sold = pd.Series([20, 30, 15], index=['Product A', 'Product B', 'Product C'])\n",
    "\n",
    "df = pd.DataFrame({'Sales': sales, 'Cost': cost, 'Units Sold': units_sold})\n",
    "print(df)"
   ]
  },
  {
   "cell_type": "code",
   "execution_count": 3,
   "id": "8b21b481",
   "metadata": {},
   "outputs": [
    {
     "name": "stdout",
     "output_type": "stream",
     "text": [
      "           Sales   Cost  Units Sold\n",
      "Product A    100   80.0        20.0\n",
      "Product B    150   90.0        30.0\n",
      "Product C    200  120.0         NaN\n",
      "Product D    250    NaN         NaN\n"
     ]
    }
   ],
   "source": [
    "# Filename: dataframe_create2.py\n",
    "import pandas as pd\n",
    "\n",
    "sales = pd.Series([100, 150, 200, 250], \n",
    "           index=['Product A', 'Product B', 'Product C', 'Product D'])\n",
    "cost = pd.Series([80, 90, 120], index=['Product A', 'Product B', 'Product C'])\n",
    "units_sold = pd.Series([20, 30], index=['Product A', 'Product B'])\n",
    "df = pd.DataFrame({'Sales': sales, 'Cost': cost, 'Units Sold': units_sold})\n",
    "print(df)"
   ]
  },
  {
   "cell_type": "code",
   "execution_count": 4,
   "id": "572ef30d",
   "metadata": {},
   "outputs": [
    {
     "name": "stdout",
     "output_type": "stream",
     "text": [
      "   name  age       city\n",
      "0  Emma   28    Beijing\n",
      "1  Liam   32   Shanghai\n",
      "2  Noah   27  Guangzhou\n",
      "        name  age      city\n",
      "row1  Sophie   29  Shenzhen\n",
      "row2  Oliver   31   Chengdu\n",
      "row3     Ava   26  Hangzhou\n"
     ]
    }
   ],
   "source": [
    "# Filename: dataframe_create3.py\n",
    "import pandas as pd\n",
    "\n",
    "data1 = [{'name': 'Emma', 'age': 28, 'city': 'Beijing'},\n",
    "         {'name': 'Liam', 'age': 32, 'city': 'Shanghai'},\n",
    "         {'name': 'Noah', 'age': 27, 'city': 'Guangzhou'}]\n",
    "df1 = pd.DataFrame(data1)\n",
    "print(df1)\n",
    "\n",
    "data2 = [{'name': 'Sophie', 'age': 29, 'city': 'Shenzhen'},\n",
    "         {'name': 'Oliver', 'age': 31, 'city': 'Chengdu'},\n",
    "         {'name': 'Ava', 'age': 26, 'city': 'Hangzhou'}]\n",
    "df2 = pd.DataFrame(data2, index=['row1', 'row2', 'row3'])\n",
    "print(df2)"
   ]
  },
  {
   "cell_type": "code",
   "execution_count": 5,
   "id": "74c915bf",
   "metadata": {},
   "outputs": [
    {
     "name": "stdout",
     "output_type": "stream",
     "text": [
      "   Name  Age       City\n",
      "0  Emma   28    Beijing\n",
      "1  Liam   32   Shanghai\n",
      "2  Noah   27  Guangzhou\n"
     ]
    }
   ],
   "source": [
    "# Filename: dataframe_create4.py\n",
    "import pandas as pd\n",
    "\n",
    "data_dict = {\n",
    "    \"Name\": [\"Emma\", \"Liam\", \"Noah\"],\n",
    "    \"Age\": [28, 32, 27],\n",
    "    \"City\": [\"Beijing\", \"Shanghai\", \"Guangzhou\"]\n",
    "}\n",
    "\n",
    "df = pd.DataFrame(data_dict)\n",
    "print(df)"
   ]
  },
  {
   "cell_type": "code",
   "execution_count": 6,
   "id": "653f7b21",
   "metadata": {},
   "outputs": [
    {
     "name": "stdout",
     "output_type": "stream",
     "text": [
      "                   Beijing  Shanghai  Guangzhou\n",
      "Age                     28        32         27\n",
      "ID                       1         2          3\n",
      "Service Available        1         0          1\n"
     ]
    }
   ],
   "source": [
    "# Filename: dataframe_create5.py        \n",
    "import numpy as np\n",
    "import pandas as pd\n",
    "\n",
    "# Create a 2D NumPy array with data related to cities in China\n",
    "arr = np.array([[28, 32, 27],  # Ages\n",
    "                 [1, 2, 3],    # IDs or similar identifiers\n",
    "                 [1, 0, 1]])   # Some binary data (e.g., availability of a service)\n",
    "                 \n",
    "# Create a DataFrame from the array\n",
    "df = pd.DataFrame(arr, columns=['Beijing', 'Shanghai', 'Guangzhou'], \n",
    "                  index=['Age', 'ID', 'Service Available'])\n",
    "print(df)"
   ]
  },
  {
   "cell_type": "code",
   "execution_count": 7,
   "id": "8494726a",
   "metadata": {},
   "outputs": [
    {
     "name": "stdout",
     "output_type": "stream",
     "text": [
      "Index(['Name', 'Age', 'City'], dtype='object')\n",
      "RangeIndex(start=0, stop=3, step=1)\n"
     ]
    }
   ],
   "source": [
    "# Filename: dataframe_access1.py\n",
    "import pandas as pd\n",
    "\n",
    "data = {\n",
    "    'Name': ['Emma', 'Liam', 'Noah'],\n",
    "    'Age': [28, 32, 27],\n",
    "    'City': ['Beijing', 'Shanghai', 'Guangzhou']\n",
    "}\n",
    "\n",
    "df = pd.DataFrame(data)\n",
    "print(df.columns)  # Index object with column names\n",
    "print(df.index)    # Index object with row indices"
   ]
  },
  {
   "cell_type": "code",
   "execution_count": 9,
   "id": "e7858e77",
   "metadata": {},
   "outputs": [
    {
     "name": "stdout",
     "output_type": "stream",
     "text": [
      "[['Alice' 30 70000]\n",
      " ['Bob' 25 80000]\n",
      " ['Charlie' 35 120000]]\n",
      "      Name  Age  Salary\n",
      "0    Alice   30   70000\n",
      "1      Bob   25   80000\n",
      "2  Charlie   35  120000\n"
     ]
    }
   ],
   "source": [
    "# Filename: dataframe_access2.py    \n",
    "import pandas as pd\n",
    "\n",
    "data = {\n",
    "    'Name': ['Alice', 'Bob', 'Charlie'],\n",
    "    'Age': [30, 25, 35],\n",
    "    'Salary': [70000, 80000, 120000]\n",
    "}\n",
    "\n",
    "df = pd.DataFrame(data)\n",
    "\n",
    "arr = df.values  # Convert DataFrame to NumPy array\n",
    "print(arr)\n",
    "print(df)"
   ]
  },
  {
   "cell_type": "code",
   "execution_count": 10,
   "id": "7b0c4b74",
   "metadata": {},
   "outputs": [
    {
     "name": "stdout",
     "output_type": "stream",
     "text": [
      "Monday       55\n",
      "Tuesday      60\n",
      "Wednesday    50\n",
      "Name: Humidity, dtype: int64\n"
     ]
    }
   ],
   "source": [
    "# Filename: dataframe_access3.py    \n",
    "import pandas as pd\n",
    "\n",
    "temperature = pd.Series([22.5, 23.0, 19.5], index=['Monday', 'Tuesday', 'Wednesday'])\n",
    "humidity = pd.Series([55, 60, 50], index=['Monday', 'Tuesday', 'Wednesday'])\n",
    "wind_speed = pd.Series([5.5, 3.0, 7.2], index=['Monday', 'Tuesday', 'Wednesday'])\n",
    "df = pd.DataFrame({'Temperature': temperature, 'Humidity': humidity, \n",
    "                   'Wind Speed': wind_speed})\n",
    "\n",
    "print(df[\"Humidity\"]) "
   ]
  },
  {
   "cell_type": "code",
   "execution_count": 12,
   "id": "5ebe85a0",
   "metadata": {},
   "outputs": [
    {
     "name": "stdout",
     "output_type": "stream",
     "text": [
      "City             Beijing\n",
      "Population      21542000\n",
      "Area (sq km)    16410.54\n",
      "Name: A, dtype: object\n",
      "City            Shanghai\n",
      "Population      24183300\n",
      "Area (sq km)      6340.5\n",
      "Name: B, dtype: object\n"
     ]
    }
   ],
   "source": [
    "# Filename: dataframe_access4.py\n",
    "import pandas as pd\n",
    "\n",
    "city = pd.Series(['Beijing', 'Shanghai', 'Guangzhou'],\n",
    "                  index=['A', 'B', 'C'])\n",
    "population = pd.Series([21542000, 24183300, 14904000],\n",
    "                        index=['A', 'B', 'C'])\n",
    "area = pd.Series([16410.54, 6340.5, 7434.4], \n",
    "                  index=['A', 'B', 'C'])\n",
    "df = pd.DataFrame({'City': city, \n",
    "                   'Population': population, \n",
    "                   'Area (sq km)': area})\n",
    "print(df.loc['A'])  # Access by label\n",
    "print(df.iloc[1])   # Access by position "
   ]
  },
  {
   "cell_type": "code",
   "execution_count": 13,
   "id": "6006db55",
   "metadata": {},
   "outputs": [
    {
     "name": "stdout",
     "output_type": "stream",
     "text": [
      "   Population  Area (sq km)\n",
      "B    24183300        6340.5\n",
      "C    14904000        7434.4\n"
     ]
    }
   ],
   "source": [
    "# Filename: dataframe_access5.py\n",
    "import pandas as pd\n",
    "\n",
    "city = pd.Series(['Beijing', 'Shanghai', 'Guangzhou'], index=['A', 'B', 'C'])\n",
    "population = pd.Series([21542000, 24183300, 14904000], index=['A', 'B', 'C'])\n",
    "area = pd.Series([16410.54, 6340.5, 7434.4], index=['A', 'B', 'C'])\n",
    "df = pd.DataFrame({'City': city, 'Population': population, 'Area (sq km)': area})\n",
    "\n",
    "# Access columns from 'Population' to 'Area (sq km)' and rows from 'B' to 'C'                   \n",
    "print(df.loc['B':'C', 'Population':'Area (sq km)'])"
   ]
  },
  {
   "cell_type": "code",
   "execution_count": 14,
   "id": "7a3c88a1",
   "metadata": {},
   "outputs": [
    {
     "name": "stdout",
     "output_type": "stream",
     "text": [
      "   Population  Area (sq km)\n",
      "B    24183300        6340.5\n"
     ]
    }
   ],
   "source": [
    "# Filename: dataframe_access6.py\n",
    "import pandas as pd\n",
    "\n",
    "city = pd.Series(['Beijing', 'Shanghai', 'Guangzhou'], index=['A', 'B', 'C'])\n",
    "population = pd.Series([21542000, 24183300, 14904000], index=['A', 'B', 'C'])\n",
    "area = pd.Series([16410.54, 6340.5, 7434.4], index=['A', 'B', 'C'])\n",
    "df = pd.DataFrame({'City': city, 'Population': population, 'Area (sq km)': area})\n",
    "\n",
    "# Create a mask for cities with population greater than \n",
    "# 10 million and area less than 7000 sq km\n",
    "mask = (df['Population'] > 10000000) & \\\n",
    "       (df['Area (sq km)'] < 7000)\n",
    "\n",
    "# Print the filtered DataFrame based on the mask\n",
    "print(df.loc[mask, 'Population':])"
   ]
  },
  {
   "cell_type": "code",
   "execution_count": 1,
   "id": "f289392f",
   "metadata": {},
   "outputs": [
    {
     "name": "stdout",
     "output_type": "stream",
     "text": [
      "        City  Population\n",
      "A    Beijing    21542000\n",
      "C  Guangzhou    14904000\n",
      "           City  Population\n",
      "A  Updated City           0\n",
      "C  Updated City           0\n"
     ]
    }
   ],
   "source": [
    "# Filename: dataframe_access7.py\n",
    "import pandas as pd\n",
    "\n",
    "city = pd.Series(['Beijing', 'Shanghai', 'Guangzhou'],\n",
    "                 index=['A', 'B', 'C'])\n",
    "population = pd.Series([21542000, 24183300, 14904000],\n",
    "                        index=['A', 'B', 'C'])\n",
    "area = pd.Series([16410.54, 6340.5, 7434.4], \n",
    "                  index=['A', 'B', 'C'])\n",
    "df = pd.DataFrame({'City': city, 'Population': population, \n",
    "                   'Area (sq km)': area})\n",
    "\n",
    "# Print selected rows and columns\n",
    "print(df.loc[['A', 'C'], ['City', 'Population']])\n",
    "\n",
    "# Update selected rows and columns\n",
    "df.loc[['A', 'C'], ['City', 'Population']] = ['Updated City', 0]\n",
    "print(df.loc[['A', 'C'], ['City', 'Population']])"
   ]
  },
  {
   "cell_type": "code",
   "execution_count": 4,
   "id": "bc719b2d",
   "metadata": {},
   "outputs": [
    {
     "name": "stdout",
     "output_type": "stream",
     "text": [
      "        City  Population  Area (sq km)  Is Coastal\n",
      "A    Beijing    21542000      16410.54       False\n",
      "B   Shanghai    24183300       6340.50        True\n",
      "C  Guangzhou    14904000       7434.40       False\n"
     ]
    }
   ],
   "source": [
    "# Filename: dataframe_add_column.py\n",
    "import pandas as pd\n",
    "\n",
    "city = pd.Series(['Beijing', 'Shanghai', 'Guangzhou'], index=['A', 'B', 'C'])\n",
    "population = pd.Series([21542000, 24183300, 14904000], index=['A', 'B', 'C'])\n",
    "area = pd.Series([16410.54, 6340.5, 7434.4], index=['A', 'B', 'C'])\n",
    "df = pd.DataFrame({'City': city, 'Population': population, 'Area (sq km)': area})\n",
    "\n",
    "# Adding a new column to indicate if the city is coastal\n",
    "df['Is Coastal'] = pd.Series([False, True, False], index=['A', 'B', 'C'])\n",
    "# The above is equivalent to df['Is Coastal'] = [False, True, False]                            \n",
    "print(df) "
   ]
  },
  {
   "cell_type": "code",
   "execution_count": 2,
   "id": "23fb9027",
   "metadata": {},
   "outputs": [
    {
     "name": "stdout",
     "output_type": "stream",
     "text": [
      "        City  Population  Area (sq km)\n",
      "A    Beijing    21542000      16410.54\n",
      "B   Shanghai    24183300       6340.50\n",
      "C  Guangzhou    14904000       7434.40\n",
      "        City\n",
      "A    Beijing\n",
      "B   Shanghai\n",
      "C  Guangzhou\n"
     ]
    }
   ],
   "source": [
    "# Filename: dataframe_drop_column.py\n",
    "import pandas as pd\n",
    "\n",
    "city = pd.Series(['Beijing', 'Shanghai', 'Guangzhou'],\n",
    "                 index=['A', 'B', 'C'])\n",
    "population = pd.Series([21542000, 24183300, 14904000],\n",
    "                        index=['A', 'B', 'C'])\n",
    "area = pd.Series([16410.54, 6340.5, 7434.4], \n",
    "                  index=['A', 'B', 'C'])\n",
    "df = pd.DataFrame({'City': city, 'Population': population, \n",
    "                   'Area (sq km)': area})\n",
    "print(df)  # Display the original DataFrame\n",
    "# Drop the 'Population' and 'Area (sq km)' columns\n",
    "df = df.drop(columns=['Population', 'Area (sq km)'])\n",
    "print(df)  # Display the DataFrame after dropping columns"
   ]
  },
  {
   "cell_type": "code",
   "execution_count": 3,
   "id": "0d0d43e6",
   "metadata": {},
   "outputs": [
    {
     "name": "stdout",
     "output_type": "stream",
     "text": [
      "        City       Pop      Area\n",
      "A    Beijing  21542000  16410.54\n",
      "B   Shanghai  24183300   6340.50\n",
      "C  Guangzhou  14904000   7434.40\n"
     ]
    }
   ],
   "source": [
    "# Filename: dataframe_rename_column.py\n",
    "import pandas as pd\n",
    "\n",
    "city = pd.Series(['Beijing', 'Shanghai', 'Guangzhou'],\n",
    "                  index=['A', 'B', 'C'])\n",
    "population = pd.Series([21542000, 24183300, 14904000],\n",
    "                        index=['A', 'B', 'C'])\n",
    "area = pd.Series([16410.54, 6340.5, 7434.4],\n",
    "                  index=['A', 'B', 'C'])\n",
    "df = pd.DataFrame({'City': city, \n",
    "                   'Population': population, \n",
    "                   'Area (sq km)': area})\n",
    "\n",
    "# Rename columns for brevity\n",
    "df = df.rename(columns={'Population': 'Pop', \n",
    "                        'Area (sq km)': 'Area'})\n",
    "print(df)"
   ]
  },
  {
   "cell_type": "code",
   "execution_count": 7,
   "id": "18bca158",
   "metadata": {},
   "outputs": [
    {
     "name": "stdout",
     "output_type": "stream",
     "text": [
      "Beijing      11000000.0\n",
      "Chongqing    10000000.0\n",
      "Guangzhou           NaN\n",
      "Shanghai            NaN\n",
      "dtype: float64\n"
     ]
    },
    {
     "data": {
      "text/plain": [
       "''"
      ]
     },
     "execution_count": 7,
     "metadata": {},
     "output_type": "execute_result"
    }
   ],
   "source": [
    "# Filename: series_op.py\n",
    "import pandas as pd\n",
    "\n",
    "# Creating two Series with city populations\n",
    "city_a = pd.Series([21540000, 10000000, 8000000], \n",
    "            index=['Shanghai', 'Beijing', 'Chongqing'])\n",
    "city_b = pd.Series([1000000, 2000000, 3000000], \n",
    "            index=['Beijing', 'Chongqing', 'Guangzhou'])\n",
    "result = city_a + city_b\n",
    "print(result)\n",
    "\n",
    "\n",
    "\"\"\"\n",
    "Output:\n",
    "Beijing      11000000.0\n",
    "Chongqing    10000000.0\n",
    "Guangzhou           NaN # Since the index elements which do not match are set to NaN (i.e. not a number)\n",
    "Shanghai            NaN\n",
    "dtype: float64\n",
    "\"\"\""
   ]
  },
  {
   "cell_type": "code",
   "execution_count": 6,
   "id": "f734d23c",
   "metadata": {},
   "outputs": [
    {
     "name": "stdout",
     "output_type": "stream",
     "text": [
      "           Population  Area (sq mi)\n",
      "Shanghai     21540000        2400.0\n",
      "Beijing      10000000        1687.0\n",
      "Chongqing     8000000         315.0\n",
      "           Population  Area (sq mi)\n",
      "Beijing       1000000         743.0\n",
      "Guangzhou     2000000         400.0\n",
      "           Population  Area (sq mi)\n",
      "Beijing    11000000.0        2430.0\n",
      "Chongqing         NaN           NaN\n",
      "Guangzhou         NaN           NaN\n",
      "Shanghai          NaN           NaN\n"
     ]
    }
   ],
   "source": [
    "# Filename: dataframes_op.py\n",
    "import pandas as pd\n",
    "\n",
    "# Creating two DataFrames with city populations and areas\n",
    "df1 = pd.DataFrame([[21540000, 2400.0], [10000000, 1687.0], \n",
    "                    [8000000, 315.0]],\n",
    "                   columns=['Population', 'Area (sq mi)'],\n",
    "                   index=['Shanghai', 'Beijing', 'Chongqing'])\n",
    "print(df1)        \n",
    "          \n",
    "df2 = pd.DataFrame([[1000000, 743.0], [2000000, 400.0]],\n",
    "                   columns=['Population', 'Area (sq mi)'],\n",
    "                   index=['Beijing', 'Guangzhou'])\n",
    "print(df2)\n",
    "\n",
    "print(df1 + df2) # Adding the two DataFrames"
   ]
  },
  {
   "cell_type": "code",
   "execution_count": 8,
   "id": "998b2124",
   "metadata": {},
   "outputs": [
    {
     "name": "stdout",
     "output_type": "stream",
     "text": [
      "Mean Population: 13180000.0\n"
     ]
    }
   ],
   "source": [
    "# Aggregations\n",
    "\n",
    "# Filename: series_aggregations.py\n",
    "import pandas as pd\n",
    "\n",
    "# Creating a Series with city populations\n",
    "populations = pd.Series([21540000, 10000000, 8000000],\n",
    "                 index=['Shanghai', 'Beijing', 'Chongqing'])\n",
    "\n",
    "# Calculating the mean population\n",
    "mean_population = populations.mean()\n",
    "print(f'Mean Population: {mean_population}')"
   ]
  },
  {
   "cell_type": "code",
   "execution_count": 10,
   "id": "689dc737",
   "metadata": {},
   "outputs": [
    {
     "name": "stdout",
     "output_type": "stream",
     "text": [
      "Population      1.318000e+07\n",
      "Area (sq mi)    1.467333e+03\n",
      "dtype: float64\n"
     ]
    }
   ],
   "source": [
    "# Filename: dataframes_aggregations.py\n",
    "import pandas as pd\n",
    "\n",
    "# Creating a DataFrame with city population and area data\n",
    "data = {\n",
    "    'City': ['Shanghai', 'Beijing', 'Chongqing'],\n",
    "    'Population': [21540000, 10000000, 8000000],\n",
    "    'Area (sq mi)': [2400.0, 1687.0, 315.0]\n",
    "}\n",
    "df = pd.DataFrame(data)\n",
    "\n",
    "# Calculating aggregate functions for the DataFrame\n",
    "mean_values = df[['Population', 'Area (sq mi)']].mean()\n",
    "print(mean_values)"
   ]
  },
  {
   "cell_type": "code",
   "execution_count": null,
   "id": "12bf92f9",
   "metadata": {},
   "outputs": [
    {
     "name": "stdout",
     "output_type": "stream",
     "text": [
      "20209766.666666668\n",
      "4780950.361939908\n",
      "14904000\n",
      "24183300\n",
      "60629300\n"
     ]
    }
   ],
   "source": [
    "import pandas as pd\n",
    "\n",
    "# Creating a Series with city populations\n",
    "populations = pd.Series([21540000, 10000000, 8000000],\n",
    "                 index=['Shanghai', 'Beijing', 'Chongqing'])\n",
    "\n",
    "# Calculating the mean population\n",
    "print(population.mean()) # Mean\n",
    "print(population.std()) # Standard deviation\n",
    "print(population.min()) # Minimum\n",
    "print(population.max()) # Maximum\n",
    "print(population.sum()) # Sum\n"
   ]
  },
  {
   "cell_type": "code",
   "execution_count": 19,
   "id": "6e2db4cb",
   "metadata": {},
   "outputs": [
    {
     "name": "stdout",
     "output_type": "stream",
     "text": [
      "Shanghai     False\n",
      "Beijing       True\n",
      "Chongqing    False\n",
      "Guangzhou     True\n",
      "dtype: bool\n",
      "Beijing     NaN\n",
      "Guangzhou   NaN\n",
      "dtype: float64\n"
     ]
    }
   ],
   "source": [
    "# Missing values in Pandas are represented with sentinel values.\n",
    "# They can be None / np.nan (floating point number)\n",
    "\n",
    "# Check if a Series or a DataFrame contains missing values with the \"isnull()\" method.\n",
    "\n",
    "# Filename: checking_missing.py\n",
    "import numpy as np\n",
    "import pandas as pd\n",
    "\n",
    "# Creating a Series with null values for city populations\n",
    "s = pd.Series([21540000, None, 8000000, np.nan], \n",
    "              index=['Shanghai', 'Beijing', \n",
    "                     'Chongqing', 'Guangzhou'])\n",
    "# Checking for null values\n",
    "null_mask = s.isnull()\n",
    "print(null_mask)\n",
    "\n",
    "print(s[null_mask])"
   ]
  },
  {
   "cell_type": "code",
   "execution_count": 20,
   "id": "a68b8c3f",
   "metadata": {},
   "outputs": [
    {
     "name": "stdout",
     "output_type": "stream",
     "text": [
      "Original Series:\n",
      "Shanghai     21540000.0\n",
      "Beijing             NaN\n",
      "Chongqing     8000000.0\n",
      "Guangzhou           NaN\n",
      "dtype: float64\n",
      "\n",
      "Series after dropping missing values:\n",
      "Shanghai     21540000.0\n",
      "Chongqing     8000000.0\n",
      "dtype: float64\n",
      "\n",
      "Original DataFrame:\n",
      "           Population  Area (sq mi)\n",
      "Shanghai   21540000.0        2400.0\n",
      "Beijing    10000000.0           NaN\n",
      "Chongqing         NaN         315.0\n",
      "\n",
      "DataFrame after dropping missing values:\n",
      "          Population  Area (sq mi)\n",
      "Shanghai  21540000.0        2400.0\n"
     ]
    }
   ],
   "source": [
    "# Filename: remove_missing.py\n",
    "import numpy as np\n",
    "import pandas as pd\n",
    "\n",
    "# Creating a Series with missing values for city populations\n",
    "s = pd.Series([21540000, None, 8000000, np.nan], \n",
    "              index=['Shanghai', 'Beijing', \n",
    "                     'Chongqing', 'Guangzhou'])\n",
    "print(\"Original Series:\")\n",
    "print(s)\n",
    "print(\"\\nSeries after dropping missing values:\")\n",
    "print(s.dropna())\n",
    "print()\n",
    "\n",
    "# Creating a DataFrame with missing values for city statistics\n",
    "df = pd.DataFrame({'Population': [21540000, 10000000, None], \n",
    "                   'Area (sq mi)': [2400.0, np.nan, 315.0]},\n",
    "                  index=['Shanghai', 'Beijing', 'Chongqing'])\n",
    "print(\"Original DataFrame:\")\n",
    "print(df)                  \n",
    "print(\"\\nDataFrame after dropping missing values:\")\n",
    "print(df.dropna())   "
   ]
  },
  {
   "cell_type": "code",
   "execution_count": null,
   "id": "e22ec1eb",
   "metadata": {},
   "outputs": [
    {
     "name": "stdout",
     "output_type": "stream",
     "text": [
      "20.0\n",
      "0    10.0\n",
      "1    20.0\n",
      "2    20.0\n",
      "3    30.0\n",
      "4    20.0\n",
      "dtype: float64\n",
      "\n",
      "    Sales  Profit\n",
      "Q1    100    20.0\n",
      "Q2    200    35.0\n",
      "Q3    300    50.0\n"
     ]
    }
   ],
   "source": [
    "# Filename: fill_missing_values.py\n",
    "import numpy as np\n",
    "import pandas as pd\n",
    "\n",
    "# Create a Series with missing values\n",
    "s = pd.Series([10, 20, None, 30, np.nan])\n",
    "mean_value = s.mean()\n",
    "print(mean_value) # (10 + 20 + 30) / 2 = 20 -> Output: 20\n",
    "print(s.fillna(mean_value)) # Fill missing values with the mean of the column (i.e. Change None & np.nan to 20.0)\n",
    "print()\n",
    "\n",
    "# Create a DataFrame with missing values\n",
    "df = pd.DataFrame({'Sales': [100, 200, 300], \n",
    "                   'Profit': [20, np.nan, 50]},\n",
    "                  index=['Q1', 'Q2', 'Q3'])\n",
    "mean_profit = df['Profit'].mean() # Change np.nan to 35 (i.e. the mean of their profit (20 + 50) / 2 = 35.0)\n",
    "print(df.fillna(mean_profit)) "
   ]
  },
  {
   "cell_type": "code",
   "execution_count": 22,
   "id": "eaf7e382",
   "metadata": {},
   "outputs": [
    {
     "name": "stdout",
     "output_type": "stream",
     "text": [
      "North\n",
      "  Region  Sales  Profit\n",
      "0  North    250      50\n",
      "2  North    300      70\n",
      "South\n",
      "  Region  Sales  Profit\n",
      "1  South    150      30\n",
      "3  South    200      40\n"
     ]
    }
   ],
   "source": [
    "# Filename: dataframe_grouping_data1.py\n",
    "import pandas as pd\n",
    "\n",
    "# Create a DataFrame with sales data\n",
    "df = pd.DataFrame({'Region': ['North', 'South', 'North', 'South'],\n",
    "                   'Sales': [250, 150, 300, 200],\n",
    "                   'Profit': [50, 30, 70, 40]})\n",
    "groupedDf = df.groupby('Region') # 2 groups: 'North' and 'South'                   \n",
    "\n",
    "for key, groupDf in groupedDf:\n",
    "    print(key)\n",
    "    print(groupDf)"
   ]
  },
  {
   "cell_type": "code",
   "execution_count": 23,
   "id": "54d8026d",
   "metadata": {},
   "outputs": [
    {
     "name": "stdout",
     "output_type": "stream",
     "text": [
      "  Department   Salary  Experience\n",
      "0         HR  52500.0         2.5\n",
      "1         IT  65000.0         6.0\n"
     ]
    }
   ],
   "source": [
    "# Filename: dataframe_grouping_data2.py\n",
    "import pandas as pd\n",
    "\n",
    "# Create a DataFrame with employee data\n",
    "df = pd.DataFrame({'Department': ['HR', 'IT', 'HR', 'IT'],\n",
    "                   'Salary': [50000, 60000, 55000, 70000],\n",
    "                   'Experience': [2, 5, 3, 7]})\n",
    "\n",
    "# 2 groups: 'HR' and 'IT'                   \n",
    "groupedDf = df.groupby('Department')\n",
    "\n",
    "# Mean salary and experience, separately for each group\n",
    "result = groupedDf.mean().reset_index()\n",
    "print(result)"
   ]
  },
  {
   "cell_type": "code",
   "execution_count": null,
   "id": "e48eed65",
   "metadata": {},
   "outputs": [],
   "source": [
    "# File: employees.csv\n",
    "\n",
    "\"\"\"\n",
    "Name,Department,Salary,Experience\n",
    "Alice,HR,60000,N/A\n",
    "Bob,IT,75000,5\n",
    "Charlie,Finance,80000,7\n",
    "Diana,IT,90000,Missing\n",
    "Eve,HR,N/A,3\n",
    "\"\"\""
   ]
  },
  {
   "cell_type": "code",
   "execution_count": 26,
   "id": "2e13f11b",
   "metadata": {},
   "outputs": [
    {
     "name": "stdout",
     "output_type": "stream",
     "text": [
      "      Name Department   Salary  Experience\n",
      "0    Alice         HR  60000.0         NaN\n",
      "1      Bob         IT  75000.0         5.0\n",
      "2  Charlie    Finance  80000.0         7.0\n",
      "3    Diana         IT  90000.0         NaN\n",
      "4      Eve         HR      NaN         3.0\n"
     ]
    }
   ],
   "source": [
    "# Filename: csv_loading_data.py\n",
    "import pandas as pd\n",
    "\n",
    "# Load data from a CSV file with specific NA values\n",
    "df = pd.read_csv('./programs/data/employees.csv', \n",
    "                 sep=',', \n",
    "                 skiprows=0,\n",
    "                 na_values=['N/A', 'Missing'])\n",
    "print(df)"
   ]
  },
  {
   "cell_type": "code",
   "execution_count": 28,
   "id": "de6f21ee",
   "metadata": {},
   "outputs": [],
   "source": [
    "# Filename: csv_saving_data.py\n",
    "import pandas as pd\n",
    "import os\n",
    "\n",
    "# Sample DataFrame with employee data\n",
    "data = {\n",
    "    'Name': ['Alice', 'Bob', 'Charlie', 'Diana', 'Eve'],\n",
    "    'Department': ['HR', 'IT', 'Finance', 'IT', 'HR'],\n",
    "    'Salary': [60000, 75000, 80000, 90000, None],\n",
    "    'Experience': [None, 5, 7, None, 3]\n",
    "}\n",
    "df = pd.DataFrame(data)\n",
    "\n",
    "# Define the path to save the CSV file\n",
    "path = os.path.join('./programs/data', 'employees2.csv')\n",
    "df.to_csv(path, sep=',', index=False)"
   ]
  },
  {
   "cell_type": "raw",
   "id": "ed6c6161",
   "metadata": {
    "vscode": {
     "languageId": "raw"
    }
   },
   "source": [
    "# Filename: employees2.csv\n",
    "\n",
    "Name,Department,Salary,Experience\n",
    "Alice,HR,60000.0,\n",
    "Bob,IT,75000.0,5.0\n",
    "Charlie,Finance,80000.0,7.0\n",
    "Diana,IT,90000.0,\n",
    "Eve,HR,,3.0"
   ]
  },
  {
   "cell_type": "markdown",
   "id": "ffbfcd68",
   "metadata": {},
   "source": [
    "Here is a summary of the entire Pandas note, including key concepts and code examples:\n",
    "\n",
    "---\n",
    "\n",
    "## 1. Series Creation and Access\n",
    "\n"
   ]
  },
  {
   "cell_type": "code",
   "execution_count": 29,
   "id": "fbf6d8ed",
   "metadata": {},
   "outputs": [
    {
     "name": "stdout",
     "output_type": "stream",
     "text": [
      "0    10\n",
      "1    20\n",
      "2    30\n",
      "3    40\n",
      "dtype: int64\n",
      "first     10\n",
      "second    20\n",
      "third     30\n",
      "fourth    40\n",
      "dtype: int64\n",
      "first     10\n",
      "second    20\n",
      "third     30\n",
      "fourth    40\n",
      "dtype: int64\n"
     ]
    }
   ],
   "source": [
    "import pandas as pd\n",
    "\n",
    "# Create Series from list\n",
    "s1 = pd.Series([10, 20, 30, 40])\n",
    "print(s1)\n",
    "\n",
    "# Create Series with custom index\n",
    "s2 = pd.Series([10, 20, 30, 40], index=['first', 'second', 'third', 'fourth'])\n",
    "print(s2)\n",
    "\n",
    "# Create Series from dictionary\n",
    "data = {'first': 10, 'second': 20, 'third': 30, 'fourth': 40}\n",
    "s3 = pd.Series(data)\n",
    "print(s3)"
   ]
  },
  {
   "cell_type": "markdown",
   "id": "b9f5de33",
   "metadata": {},
   "source": [
    "\n",
    "\n",
    "Access elements by label or position:\n",
    "\n"
   ]
  },
  {
   "cell_type": "code",
   "execution_count": null,
   "id": "a3a84dd1",
   "metadata": {},
   "outputs": [],
   "source": [
    "e1 = s2.loc['second']\n",
    "e2 = s2.iloc[2]\n",
    "print(e1, e2)"
   ]
  },
  {
   "cell_type": "markdown",
   "id": "0b8b1bd8",
   "metadata": {},
   "source": [
    "\n",
    "\n",
    "---\n",
    "\n",
    "## 2. Series Slicing, Masking, and Fancy Indexing\n",
    "\n"
   ]
  },
  {
   "cell_type": "code",
   "execution_count": null,
   "id": "79d0ed40",
   "metadata": {},
   "outputs": [],
   "source": [
    "# Slicing\n",
    "print(s2.loc['second':'fourth'])\n",
    "print(s2.iloc[1:3])\n",
    "\n",
    "# Masking (Boolean indexing)\n",
    "mask = (s2 > 10) & (s2 < 40)\n",
    "print(s2[mask])\n",
    "\n",
    "# Fancy indexing\n",
    "print(s2.loc[['first', 'third']])"
   ]
  },
  {
   "cell_type": "markdown",
   "id": "037b48ce",
   "metadata": {},
   "source": [
    "\n",
    "\n",
    "---\n",
    "\n",
    "## 3. DataFrame Creation and Access\n",
    "\n"
   ]
  },
  {
   "cell_type": "code",
   "execution_count": null,
   "id": "722b5c80",
   "metadata": {},
   "outputs": [],
   "source": [
    "# Create DataFrame from dictionary of Series\n",
    "df = pd.DataFrame({'Sales': [100, 150, 200], 'Cost': [80, 90, 120]})\n",
    "print(df)\n",
    "\n",
    "# Access columns and rows\n",
    "print(df['Sales'])\n",
    "print(df.iloc[0])\n",
    "print(df.loc[0])"
   ]
  },
  {
   "cell_type": "markdown",
   "id": "139d89a4",
   "metadata": {},
   "source": [
    "\n",
    "\n",
    "---\n",
    "\n",
    "## 4. DataFrame Slicing and Filtering\n",
    "\n"
   ]
  },
  {
   "cell_type": "code",
   "execution_count": null,
   "id": "6cc01456",
   "metadata": {},
   "outputs": [],
   "source": [
    "# Row and column slicing\n",
    "print(df.iloc[0:2, 0:1])\n",
    "\n",
    "# Boolean filtering\n",
    "mask = df['Sales'] > 120\n",
    "print(df[mask])"
   ]
  },
  {
   "cell_type": "markdown",
   "id": "0f89eb61",
   "metadata": {},
   "source": [
    "\n",
    "\n",
    "---\n",
    "\n",
    "## 5. DataFrame Column Operations\n",
    "\n"
   ]
  },
  {
   "cell_type": "code",
   "execution_count": null,
   "id": "9c8e435e",
   "metadata": {},
   "outputs": [],
   "source": [
    "# Add new column\n",
    "df['Profit'] = df['Sales'] - df['Cost']\n",
    "print(df)\n",
    "\n",
    "# Drop columns\n",
    "df = df.drop(columns=['Cost'])\n",
    "print(df)\n",
    "\n",
    "# Rename columns\n",
    "df = df.rename(columns={'Sales': 'Total Sales'})\n",
    "print(df)"
   ]
  },
  {
   "cell_type": "markdown",
   "id": "2f633416",
   "metadata": {},
   "source": [
    "\n",
    "\n",
    "---\n",
    "\n",
    "## 6. Series and DataFrame Arithmetic\n",
    "\n"
   ]
  },
  {
   "cell_type": "code",
   "execution_count": null,
   "id": "87d4c8c6",
   "metadata": {},
   "outputs": [],
   "source": [
    "city_a = pd.Series([21540000, 10000000, 8000000], index=['Shanghai', 'Beijing', 'Chongqing'])\n",
    "city_b = pd.Series([1000000, 2000000, 3000000], index=['Beijing', 'Chongqing', 'Guangzhou'])\n",
    "result = city_a + city_b\n",
    "print(result)\n",
    "# Output:\n",
    "# Beijing      11000000.0\n",
    "# Chongqing    10000000.0\n",
    "# Guangzhou           NaN\n",
    "# Shanghai            NaN"
   ]
  },
  {
   "cell_type": "markdown",
   "id": "9fa9d9e5",
   "metadata": {},
   "source": [
    "\n",
    "\n",
    "---\n",
    "\n",
    "## 7. Aggregation and Statistics\n",
    "\n"
   ]
  },
  {
   "cell_type": "code",
   "execution_count": null,
   "id": "804210b9",
   "metadata": {},
   "outputs": [],
   "source": [
    "populations = pd.Series([21540000, 10000000, 8000000], index=['Shanghai', 'Beijing', 'Chongqing'])\n",
    "print(populations.mean())  # Mean\n",
    "print(populations.std())   # Standard deviation\n",
    "print(populations.min())   # Minimum\n",
    "print(populations.max())   # Maximum\n",
    "print(populations.sum())   # Sum"
   ]
  },
  {
   "cell_type": "markdown",
   "id": "9e1e6ab0",
   "metadata": {},
   "source": [
    "\n",
    "\n",
    "---\n",
    "\n",
    "## 8. Handling Missing Values\n",
    "\n"
   ]
  },
  {
   "cell_type": "code",
   "execution_count": null,
   "id": "46cb75f8",
   "metadata": {},
   "outputs": [],
   "source": [
    "import numpy as np\n",
    "\n",
    "s = pd.Series([21540000, None, 8000000, np.nan], index=['Shanghai', 'Beijing', 'Chongqing', 'Guangzhou'])\n",
    "print(s.isnull())\n",
    "print(s.dropna())\n",
    "print(s.fillna(s.mean()))"
   ]
  },
  {
   "cell_type": "markdown",
   "id": "35454f3e",
   "metadata": {},
   "source": [
    "\n",
    "\n",
    "---\n",
    "\n",
    "## 9. Grouping and Aggregation\n",
    "\n"
   ]
  },
  {
   "cell_type": "code",
   "execution_count": null,
   "id": "d17553e2",
   "metadata": {},
   "outputs": [],
   "source": [
    "df = pd.DataFrame({'Department': ['HR', 'IT', 'HR', 'IT'],\n",
    "                   'Salary': [50000, 60000, 55000, 70000],\n",
    "                   'Experience': [2, 5, 3, 7]})\n",
    "grouped = df.groupby('Department')\n",
    "print(grouped.mean())"
   ]
  },
  {
   "cell_type": "markdown",
   "id": "1e8b2f2f",
   "metadata": {},
   "source": [
    "\n",
    "\n",
    "---\n",
    "\n",
    "## 10. CSV File Reading and Writing\n",
    "\n"
   ]
  },
  {
   "cell_type": "code",
   "execution_count": null,
   "id": "fd9f9c5d",
   "metadata": {},
   "outputs": [],
   "source": [
    "# Read CSV\n",
    "df = pd.read_csv('./programs/data/employees.csv', na_values=['N/A', 'Missing'])\n",
    "print(df)\n",
    "\n",
    "# Save CSV\n",
    "df.to_csv('./programs/data/employees2.csv', index=False)"
   ]
  },
  {
   "cell_type": "markdown",
   "id": "b26125a9",
   "metadata": {},
   "source": [
    "\n",
    "\n",
    "Example CSV content:\n",
    "\n"
   ]
  },
  {
   "cell_type": "raw",
   "id": "44d80595",
   "metadata": {
    "vscode": {
     "languageId": "raw"
    }
   },
   "source": [
    "Name,Department,Salary,Experience\n",
    "Alice,HR,60000.0,\n",
    "Bob,IT,75000.0,5.0\n",
    "Charlie,Finance,80000.0,7.0\n",
    "Diana,IT,90000.0,\n",
    "Eve,HR,,3.0"
   ]
  },
  {
   "cell_type": "markdown",
   "id": "3f8c17d1",
   "metadata": {},
   "source": [
    "\n",
    "\n",
    "---\n",
    "\n",
    "## 11. Other DataFrame Operations\n",
    "\n",
    "- Add columns (e.g., `df['Is Coastal'] = [False, True, False]`)\n",
    "- Drop columns (`df.drop(columns=['Population', 'Area (sq km)'])`)\n",
    "- Rename columns (`df.rename(columns={'Population': 'Pop'})`)\n",
    "- Access by label and position (`df.loc['A']`, `df.iloc[1]`)\n",
    "- Slicing rows and columns (`df.loc['B':'C', 'Population':'Area (sq km)']`)\n",
    "- Boolean mask filtering (`df[(df['Population'] > 10000000) & (df['Area (sq km)'] < 7000)]`)\n",
    "- Groupby and aggregation (`df.groupby('Region').mean()`)\n",
    "\n",
    "---\n",
    "\n",
    "**Summary:**  \n",
    "This notebook covers the basics of pandas Series and DataFrame creation, access, slicing, arithmetic, aggregation, missing value handling, grouping, and CSV file operations, with practical code examples for each topic."
   ]
  },
  {
   "cell_type": "code",
   "execution_count": null,
   "id": "0129d043",
   "metadata": {},
   "outputs": [],
   "source": [
    "# The above is generated by Github Copilot, just for reference only"
   ]
  }
 ],
 "metadata": {
  "kernelspec": {
   "display_name": "Python 3",
   "language": "python",
   "name": "python3"
  },
  "language_info": {
   "codemirror_mode": {
    "name": "ipython",
    "version": 3
   },
   "file_extension": ".py",
   "mimetype": "text/x-python",
   "name": "python",
   "nbconvert_exporter": "python",
   "pygments_lexer": "ipython3",
   "version": "3.13.7"
  }
 },
 "nbformat": 4,
 "nbformat_minor": 5
}
