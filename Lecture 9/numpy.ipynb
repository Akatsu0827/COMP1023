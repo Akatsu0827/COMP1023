{
 "cells": [
  {
   "cell_type": "markdown",
   "id": "71862753",
   "metadata": {},
   "source": [
    "- NumPy stands for Numerical Python and serves as the fundamental library for numerical and scientific calculations in the Python programming language.\n",
    "- It offers a high-efficiency multidimensional array structure along with various tools for manipulating these arrays."
   ]
  },
  {
   "cell_type": "code",
   "execution_count": 6,
   "id": "2d6a261c",
   "metadata": {},
   "outputs": [
    {
     "name": "stdout",
     "output_type": "stream",
     "text": [
      "<class 'numpy.ndarray'>\n",
      "[[ 114  514]\n",
      " [1919  810]]\n",
      "(2, 2)\n",
      "514 1919\n",
      "[[-0.00090601  0.00057493]\n",
      " [ 0.00214647 -0.00012751]]\n"
     ]
    }
   ],
   "source": [
    "import numpy as np\n",
    "\n",
    "a = np.array([[114, 514], [1919, 810]])\n",
    "print(type(a))\n",
    "print(a)\n",
    "print(a.shape)\n",
    "print(a[0, 1], a[1, 0])\n",
    "print(np.linalg.inv(a))\n",
    "\n"
   ]
  },
  {
   "cell_type": "markdown",
   "id": "f65c89c1",
   "metadata": {},
   "source": [
    "- A NumPy array represents a grid of values that are all of the same data type and are indexed by a tuple of non-negative integers.\n",
    "- The number of dimensions in the array is referred to as the rank.\n",
    "- The shape of an array is defined as a tuple of integers that specifies the size of the array in each dimension.\n",
    "- We can create NumPy arrays from nested lists in Python and retrieve elements using\n",
    "square brackets.\n"
   ]
  },
  {
   "cell_type": "code",
   "execution_count": 7,
   "id": "de0233e2",
   "metadata": {},
   "outputs": [
    {
     "name": "stdout",
     "output_type": "stream",
     "text": [
      "[[0. 0. 0.]\n",
      " [0. 0. 0.]\n",
      " [0. 0. 0.]]\n",
      "[[1. 1. 1.]\n",
      " [1. 1. 1.]]\n",
      "[[5 5]\n",
      " [5 5]\n",
      " [5 5]]\n",
      "[[1. 0. 0.]\n",
      " [0. 1. 0.]\n",
      " [0. 0. 1.]]\n",
      "[[0.96641497 0.04581583]\n",
      " [0.15885446 0.97673947]\n",
      " [0.85440888 0.82036291]]\n"
     ]
    }
   ],
   "source": [
    "# Filename: array_generation.py\n",
    "import numpy as np\n",
    "a = np.zeros((3,3)) # Generate an array filled with zeros\n",
    "print(a) \n",
    "# Output: \n",
    "# [[ 0. 0. 0.]\n",
    "# [ 0. 0. 0.]\n",
    "# [ 0. 0. 0.]]\n",
    "b = np.ones((2,3)) # Generate an array filled with ones\n",
    "print(b) \n",
    "# Output: \n",
    "# [[ 1. 1. 1.]\n",
    "# [ 1. 1. 1.]]\n",
    "c = np.full((3,2), 5) # Generate an array with a constant value\n",
    "print(c) \n",
    "# Output: \n",
    "# [[ 5 5]\n",
    "# [ 5 5]\n",
    "# [ 5 5]]\n",
    "d = np.eye(3) # Generate a 3x3 identity matrix\n",
    "print(d) \n",
    "# Output: \n",
    "# [[ 1. 0. 0.]\n",
    "# [ 0. 1. 0.]\n",
    "# [ 0. 0. 1.]]\n",
    "e = np.random.rand(3,2) # Generate an array with random values\n",
    "print(e) \n",
    "# Output: \n",
    "# [[ 0.12345678 0.87654321]\n",
    "# [ 0.23456789 0.76543210]\n",
    "# [ 0.34567890 0.65432109]]"
   ]
  },
  {
   "cell_type": "markdown",
   "id": "a651d857",
   "metadata": {},
   "source": [
    "- NumPy offers a variety of functions to create arrays."
   ]
  }
 ],
 "metadata": {
  "kernelspec": {
   "display_name": "Python 3",
   "language": "python",
   "name": "python3"
  },
  "language_info": {
   "codemirror_mode": {
    "name": "ipython",
    "version": 3
   },
   "file_extension": ".py",
   "mimetype": "text/x-python",
   "name": "python",
   "nbconvert_exporter": "python",
   "pygments_lexer": "ipython3",
   "version": "3.13.7"
  }
 },
 "nbformat": 4,
 "nbformat_minor": 5
}
