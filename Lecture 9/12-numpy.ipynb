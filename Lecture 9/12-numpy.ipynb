{
 "cells": [
  {
   "cell_type": "code",
   "execution_count": 33,
   "id": "f71570a1",
   "metadata": {},
   "outputs": [
    {
     "name": "stdout",
     "output_type": "stream",
     "text": [
      "<class 'numpy.ndarray'>\n",
      "(3,)\n",
      "10 20 30\n",
      "[50 20 30]\n",
      "(2, 3)\n",
      "7 8 10\n"
     ]
    }
   ],
   "source": [
    "# Filename: array_example.py\n",
    "\n",
    "import numpy as np\n",
    "\n",
    "a = np.array([10, 20, 30])            # Create a rank 1 array\n",
    "print(type(a))                        # Output: <class 'numpy.ndarray'>\n",
    "print(a.shape)                        # Output: (3,)\n",
    "print(a[0], a[1], a[2])               # Output: 10 20 30\n",
    "a[0] = 50                             # Modify an element of the array\n",
    "print(a)                              # Output: [50 20 30]\n",
    "b = np.array([[7, 8, 9], [10, 11, 12]]) # Create a rank 2 array\n",
    "print(b.shape)                        # Output: (2, 3)\n",
    "print(b[0, 0], b[0, 1], b[1, 0])      # Same as b[0][0], b[0][1], b[1][0]. Output: 7 8 10"
   ]
  },
  {
   "cell_type": "code",
   "execution_count": 72,
   "id": "6f8dbd71",
   "metadata": {},
   "outputs": [
    {
     "name": "stdout",
     "output_type": "stream",
     "text": [
      "[[0. 0. 0.]\n",
      " [0. 0. 0.]\n",
      " [0. 0. 0.]]\n",
      "[[1. 1. 1.]\n",
      " [1. 1. 1.]]\n",
      "[[5 5]\n",
      " [5 5]\n",
      " [5 5]]\n",
      "[[1. 0. 0.]\n",
      " [0. 1. 0.]\n",
      " [0. 0. 1.]]\n",
      "[[0.80798773 0.73981315]\n",
      " [0.7489539  0.09111935]\n",
      " [0.9454451  0.77595714]]\n",
      "[20 21 22 23 24 25 26 27 28 29 30 31 32 33 34 35 36 37 38 39 40 41 42 43\n",
      " 44 45 46 47 48 49 50 51 52 53 54 55 56 57 58 59 60]\n"
     ]
    }
   ],
   "source": [
    "# Filename: array_generation.py\n",
    "\n",
    "import numpy as np\n",
    "\n",
    "a = np.zeros((3,3))          # Generate an array filled with zeros\n",
    "print(a)                     # Output: [[ 0.  0.  0.]\n",
    "                             #          [ 0.  0.  0.]\n",
    "                             #          [ 0.  0.  0.]]\n",
    "b = np.ones((2,3))           # Generate an array filled with ones\n",
    "print(b)                     # Output: [[ 1.  1.  1.]\n",
    "                             #          [ 1.  1.  1.]]\n",
    "\n",
    "c = np.full((3,2), 5)        # Generate an array with a constant value\n",
    "print(c)                     # Output: [[ 5  5]\n",
    "                             #          [ 5  5]\n",
    "                             #          [ 5  5]]\n",
    "d = np.eye(3)                # Generate a 3x3 identity matrix\n",
    "print(d)                     # Output: [[ 1.  0.  0.]\n",
    "                             #          [ 0.  1.  0.]\n",
    "                             #          [ 0.  0.  1.]]\n",
    "e = np.random.rand(3,2)      # Generate an array with random values\n",
    "print(e)                     # Output: [[ 0.12345678  0.87654321]\n",
    "                             #          [ 0.23456789  0.76543210]\n",
    "                             #          [ 0.34567890  0.65432109]]\n",
    "\n",
    "f = np.arange(20, 61)       # Generate values from 20 to 60\n",
    "print(f)                     # Output: [20 21 22 23 24 25 26 27 28 29 30 31 32 33 34 35 36 37 38 39 40 41 42 43 44 45 46 47 48 49 50 51 52 53 54 55 56 57 58 59 60]"
   ]
  },
  {
   "cell_type": "code",
   "execution_count": 35,
   "id": "a71d4e0e",
   "metadata": {},
   "outputs": [
    {
     "name": "stdout",
     "output_type": "stream",
     "text": [
      "30\n",
      "30\n",
      "[30 40]\n",
      "[10 20 30 40]\n",
      "[10 20]\n",
      "[]\n",
      "[30]\n",
      "[40 30 20 10]\n"
     ]
    }
   ],
   "source": [
    "# indexing and slicing arrays\n",
    "\n",
    "import numpy as np\n",
    "\n",
    "a = np.array([10, 20, 30, 40])\n",
    "\n",
    "i = 2\n",
    "j = 4\n",
    "n = 2\n",
    "\n",
    "print(a[i]) # Retrieve the element at index i, where i is an integer (index begins at 0).\n",
    "# Output: 30\n",
    "print(a[-i]) # Retrieve the element at index -i, where i is a positive integer (index begins at -1).\n",
    "# Output: 30\n",
    "print(a[i:j]) # Retrieve the elements from index i up to, but not including, index j, where i and j are integers.\n",
    "# Output: [30 40]\n",
    "print(a[:]) # Retrieve all elements of the array.\n",
    "# Output: [10 20 30 40]\n",
    "print(a[:i]) # Retrieve the elements from the beginning of the array up to, but not including, index i, where i is an integer.\n",
    "# Output: [10 20]\n",
    "print(a[j:]) # Retrieve the elements from index j to the end of the array, where j is an integer.\n",
    "# Output: []\n",
    "print(a[i:j:n]) # Retrieve the elements from index i up to, but not including, index j, with a step size of n, where i, j, and n are integers.\n",
    "# Output: [30]\n",
    "print(a[::-1]) # Retrieve all elements of the array in reverse order.\n",
    "# Output: [40 30 20 10]"
   ]
  },
  {
   "cell_type": "code",
   "execution_count": 36,
   "id": "65a15bbd",
   "metadata": {},
   "outputs": [
    {
     "name": "stdout",
     "output_type": "stream",
     "text": [
      "30\n",
      "99\n"
     ]
    }
   ],
   "source": [
    "# NumPy arrays support slicing.\n",
    "# Since arrays may be multi-dimensional, you must specify a slice for each dimension of the array\n",
    "\n",
    "# Filename: array_indexing_slicing_example.py\n",
    "\n",
    "import numpy as np\n",
    "\n",
    "# Create a rank 2 array with shape (3, 4)\n",
    "# [[10  20  30  40]\n",
    "#  [50  60  70  80]\n",
    "#  [90 100 110 120]]\n",
    "a = np.array([[10, 20, 30, 40], [50, 60, 70, 80], [90, 100, 110, 120]])\n",
    "# Use slicing to extract a subarray containing the first 2 rows\n",
    "# and columns 2 and 3; b will be the following array of shape (2, 2):\n",
    "# [[30 40]\n",
    "#  [70 80]]\n",
    "b = a[:2, 2:4]\n",
    "# A slice of an array is a view of the original data, so changing it\n",
    "# will also change the original array.\n",
    "print(a[0, 2])   # Output: 30\n",
    "b[0, 0] = 99     # b[0, 0] refers to the same data as a[0, 2]\n",
    "print(a[0, 2])   # Output: 99"
   ]
  },
  {
   "cell_type": "code",
   "execution_count": 37,
   "id": "7dbbc041",
   "metadata": {},
   "outputs": [
    {
     "name": "stdout",
     "output_type": "stream",
     "text": [
      "[[ 3  4]\n",
      " [ 7  8]\n",
      " [11 12]]\n",
      "[[1 2 3]\n",
      " [5 6 7]]\n",
      "[[2 3 4]\n",
      " [6 7 8]]\n"
     ]
    }
   ],
   "source": [
    "# Example of array slicing\n",
    "\n",
    "import numpy as np\n",
    "\n",
    "a = np.array([[1, 2, 3, 4], [5, 6, 7, 8], [9, 10, 11, 12]])\n",
    "\n",
    "print(a[:, 2:])\n",
    "# Output:\n",
    "# [[ 3  4]\n",
    "#  [ 7  8]\n",
    "#  [11 12]]\n",
    "\n",
    "print(a[:2, :3])\n",
    "# Output:\n",
    "# [[1 2 3]\n",
    "#  [5 6 7]]\n",
    "\n",
    "print(a[:2, 1:])\n",
    "# Output:\n",
    "# [[2 3 4]\n",
    "#  [6 7 8]]"
   ]
  },
  {
   "cell_type": "code",
   "execution_count": 38,
   "id": "257dda3c",
   "metadata": {},
   "outputs": [
    {
     "name": "stdout",
     "output_type": "stream",
     "text": [
      "[19 20 21 22] (4,)\n",
      "[[19 20 21 22]] (1, 4)\n",
      "[13 17 21] (3,)\n",
      "[[13]\n",
      " [17]\n",
      " [21]] (3, 1)\n"
     ]
    }
   ],
   "source": [
    "# Filename: array_indexing_slicing_example2.py\n",
    "\n",
    "import numpy as np\n",
    "\n",
    "# Create a rank 2 array with shape (3, 4)\n",
    "# [[ 11  12  13  14]\n",
    "#  [ 15  16  17  18]\n",
    "#  [ 19  20  21  22]]\n",
    "a = np.array([[11, 12, 13, 14], [15, 16, 17, 18], [19, 20, 21, 22]])\n",
    "\n",
    "# Mixing integer indexing with slices yields an array of lower rank, \n",
    "# while using only slices yields an array of the same rank as the original:\n",
    "row_r1 = a[2, :]    # Rank 1 view of the third row of a\n",
    "row_r2 = a[2:3, :]  # Rank 2 view of the third row of a\n",
    "print(row_r1, row_r1.shape)  # Output: [19 20 21 22] (4,)\n",
    "print(row_r2, row_r2.shape)  # Output: [[19 20 21 22]] (1, 4)\n",
    "\n",
    "# The same distinction applies when accessing columns of an array:\n",
    "col_r1 = a[:, 2] # Combine integer indexing with slice indexing -> an array with lower rank, i.e. 1-D array\n",
    "col_r2 = a[:, 2:3] \n",
    "print(col_r1, col_r1.shape)  # Output: [13 17 21] (3,)\n",
    "print(col_r2, col_r2.shape)  # Output: [[13]\n",
    "                             #          [17]\n",
    "                             #          [21]] (3, 1)"
   ]
  },
  {
   "cell_type": "code",
   "execution_count": 39,
   "id": "89972c82",
   "metadata": {},
   "outputs": [
    {
     "name": "stdout",
     "output_type": "stream",
     "text": [
      "[ 8  9 12]\n",
      "[ 8  9 12]\n",
      "[9 9]\n",
      "[9 9]\n"
     ]
    }
   ],
   "source": [
    "# Filename: integer_array_indexing_example.py\n",
    "\n",
    "import numpy as np\n",
    "\n",
    "a = np.array([[7, 8], [9, 10], [11, 12]])\n",
    "\n",
    "# An example of integer array indexing.\n",
    "# The returned array will have shape (3,)\n",
    "print(a[[0, 1, 2], [1, 0, 1]])  # Output: [ 8  9 12]\n",
    "\n",
    "# The above example of integer array indexing is equivalent to this:\n",
    "print(np.array([a[0, 1], a[1, 0], a[2, 1]]))  # Output: [ 8  9 12]\n",
    "\n",
    "# When using integer array indexing, you can reuse the same\n",
    "# element from the source array:\n",
    "print(a[[1, 1], [0, 0]])  # Output: [9 9]\n",
    "\n",
    "# Equivalent to the previous integer array indexing example\n",
    "print(np.array([a[1, 0], a[1, 0]]))  # Output: [9 9]"
   ]
  },
  {
   "cell_type": "code",
   "execution_count": 40,
   "id": "bd96d219",
   "metadata": {},
   "outputs": [
    {
     "name": "stdout",
     "output_type": "stream",
     "text": [
      "[2 3 6]\n",
      "[1 1 3 4 3 5]\n"
     ]
    }
   ],
   "source": [
    "# Integer array indexing enables to create arbitrary arrays using the data from another array.\n",
    "\n",
    "# My example\n",
    "\n",
    "import numpy as np\n",
    "\n",
    "a = np.array([[1, 2], [3, 4], [5, 6]])\n",
    "\n",
    "# Q1: we need to get an array of [2, 3, 6]\n",
    "b = a[[0, 1, 2], [1, 0, 1]]\n",
    "\n",
    "print(b)\n",
    "\n",
    "# Q2: 1, 1, 3, 4, 3, 5\n",
    "c = a[[0, 0, 1, 1, 1, 2], [0, 0, 0, 1, 0, 0]]\n",
    "\n",
    "print(c)\n"
   ]
  },
  {
   "cell_type": "code",
   "execution_count": 41,
   "id": "7b6b4f68",
   "metadata": {},
   "outputs": [
    {
     "name": "stdout",
     "output_type": "stream",
     "text": [
      "[[13 14 15]\n",
      " [16 17 18]\n",
      " [19 20 21]\n",
      " [22 23 24]]\n",
      "[14 16 21 23]\n",
      "[[13 19 15]\n",
      " [21 17 18]\n",
      " [19 20 26]\n",
      " [22 28 24]]\n"
     ]
    }
   ],
   "source": [
    "# Filename: integer_array_indexing_example2.py\n",
    "\n",
    "import numpy as np\n",
    "\n",
    "# Create a new array from which we will select elements\n",
    "a = np.array([[13, 14, 15], [16, 17, 18], [19, 20, 21], [22, 23, 24]])\n",
    "\n",
    "print(a)  # Output: [[13 14 15]\n",
    "          #          [16 17 18]\n",
    "          #          [19 20 21]\n",
    "          #          [22 23 24]]\n",
    "\n",
    "b = np.array([1, 0, 2, 1])  # Create an array of indices\n",
    "# Select one element from each row of a using the indices in b\n",
    "print(a[np.arange(4), b])  # Output: [14 16 21 23]\n",
    "# Modify one element from each row of a using the indices in b\n",
    "a[np.arange(4), b] += 5\n",
    "\n",
    "print(a)  # Output: [[13 19 15]\n",
    "          #          [21 17 18]\n",
    "          #          [19 20 26]\n",
    "          #          [22 28 24]]"
   ]
  },
  {
   "cell_type": "code",
   "execution_count": 42,
   "id": "73431eb4",
   "metadata": {},
   "outputs": [
    {
     "name": "stdout",
     "output_type": "stream",
     "text": [
      "[0 1 2 3]\n"
     ]
    }
   ],
   "source": [
    "#  For reference to the above function\n",
    "\n",
    "import numpy as np\n",
    "\n",
    "print(np.arange(4))  # Output: [0 1 2 3]"
   ]
  },
  {
   "cell_type": "code",
   "execution_count": 43,
   "id": "83ed002b",
   "metadata": {},
   "outputs": [
    {
     "name": "stdout",
     "output_type": "stream",
     "text": [
      "[[ True  True]\n",
      " [ True False]\n",
      " [False False]]\n",
      "[7 8 9]\n",
      "[7 8 9]\n"
     ]
    }
   ],
   "source": [
    "# Filename: boolean_array_indexing_example.py\n",
    "\n",
    "import numpy as np\n",
    "\n",
    "a = np.array([[7, 8], [9, 10], [11, 12]])\n",
    "\n",
    "bool_idx = (a < 10)   # Identify elements of a that are less than 10; this creates a numpy \n",
    "                      # array of Booleans with the same shape as a, where each entry in bool_idx \n",
    "                      # indicates whether the corresponding element of a is < 10.\n",
    "\n",
    "print(bool_idx)      # Output: [[ True  True]\n",
    "                      #         [ True False]\n",
    "                      #         [False False]]\n",
    "\n",
    "# Use boolean array indexing to create a rank 1 array of the elements of a \n",
    "# corresponding to the True values in bool_idx\n",
    "print(a[bool_idx])  # Output: [7 8 9]\n",
    "\n",
    "# All of the above can be done in one concise statement:\n",
    "print(a[a < 10])    # Output: [7 8 9]"
   ]
  },
  {
   "cell_type": "code",
   "execution_count": 44,
   "id": "66062f46",
   "metadata": {},
   "outputs": [
    {
     "name": "stdout",
     "output_type": "stream",
     "text": [
      "int64\n",
      "float64\n",
      "float32\n"
     ]
    }
   ],
   "source": [
    "# Filename: dtype_example.py\n",
    "\n",
    "import numpy as np\n",
    "\n",
    "x = np.array([3, 4])   # Allow NumPy to infer the data type\n",
    "print(x.dtype)         # Output: int64\n",
    "\n",
    "x = np.array([3.5, 4.5])   # Allow NumPy to infer the data type\n",
    "print(x.dtype)             # Output: float64\n",
    "\n",
    "x = np.array([3, 4], dtype=np.float32)   # Specify a specific data type\n",
    "print(x.dtype)                           # Output: float32"
   ]
  },
  {
   "cell_type": "code",
   "execution_count": 45,
   "id": "133ddf05",
   "metadata": {},
   "outputs": [
    {
     "name": "stdout",
     "output_type": "stream",
     "text": [
      "[3.  4.5]\n",
      "float64\n"
     ]
    }
   ],
   "source": [
    "# Data Types\n",
    "import numpy as np\n",
    "\n",
    "a = np.array([3, 4.5])\n",
    "\n",
    "print(a)\n",
    "print(a.dtype)"
   ]
  },
  {
   "cell_type": "code",
   "execution_count": null,
   "id": "6eee7d6e",
   "metadata": {},
   "outputs": [],
   "source": [
    "# Data Types Reference\n",
    "\n",
    "import numpy as np\n",
    "\n",
    "np.int8   # 8-bit integer (-128 to 127)\n",
    "np.int16  # 16-bit integer (-32,768 to 32,767)\n",
    "np.int32  # 32-bit integer (-2,147,483,648 to 2,147,483,647)\n",
    "np.int64  # 64-bit integer (-9,223,372,036,854,775,808 to 9,223,372,036,854,775,807)\n",
    "np.uint8  # 8-bit unsigned integer (0 to 255)\n",
    "np.uint16 # 16-bit unsigned integer (0 to 65,535)\n",
    "np.uint32 # 32-bit unsigned integer (0 to 4,294,967,295)\n",
    "np.uint64 # 64-bit unsigned integer (0 to 18,446,744,073,709,551,615)\n",
    "np.float16  # Half precision float: sign bit, 5 bits exponent, 10 bits mantissa\n",
    "np.float32  # Single precision float: sign bit, 8 bits exponent, 23 bits mantissa\n",
    "np.float64  # Double precision float: sign bit, 11 bits exponent, 52 bits mantissa\n",
    "np.float128 # Extended precision float (if available on the platform)\n",
    "np.complex64   # Complex number, represented by two 32-bit floats (real and imaginary parts)\n",
    "np.complex128  # Complex number, represented by two 64-bit floats (real and imaginary parts)\n",
    "np.complex256  # Complex number, represented by two 128-bit floats (real and imaginary parts)\n",
    "np.bool_    # Boolean type storing True and False values\n",
    "np.object_  # Python object type\n",
    "np.str_     # String type\n",
    "np.byte    # Byte type (equivalent to np.int8)\n",
    "np.datetime64  # Date and time type\n",
    "np.timedelta64 # Difference between two date, time, or datetime values\n",
    "np.void     # Raw data type (used for structured arrays)"
   ]
  },
  {
   "cell_type": "code",
   "execution_count": 47,
   "id": "df68d8e1",
   "metadata": {},
   "outputs": [
    {
     "name": "stdout",
     "output_type": "stream",
     "text": [
      "[[ 8. 10.]\n",
      " [12. 14.]]\n",
      "[[ 8. 10.]\n",
      " [12. 14.]]\n",
      "[[-4. -4.]\n",
      " [-4. -4.]]\n",
      "[[-4. -4.]\n",
      " [-4. -4.]]\n",
      "[[12. 21.]\n",
      " [32. 45.]]\n",
      "[[12. 21.]\n",
      " [32. 45.]]\n",
      "[[0.33333333 0.42857143]\n",
      " [0.5        0.55555556]]\n",
      "[[0.33333333 0.42857143]\n",
      " [0.5        0.55555556]]\n",
      "[[1.41421356 1.73205081]\n",
      " [2.         2.23606798]]\n"
     ]
    }
   ],
   "source": [
    "# Filename: array_math_example.py\n",
    "\n",
    "# Basic mathematical functions operate elementwise on arrays, \n",
    "# and are available both as operator overloads and as functions in the numpy module.\n",
    "\n",
    "import numpy as np\n",
    "\n",
    "x = np.array([[2, 3], [4, 5]], dtype=np.float64)\n",
    "y = np.array([[6, 7], [8, 9]], dtype=np.float64)\n",
    "\n",
    "# Elementwise sum; both yield the array\n",
    "# [[ 8.0 10.0]\n",
    "#  [12.0 14.0]]\n",
    "print(x + y)\n",
    "print(np.add(x, y))\n",
    "\n",
    "# Elementwise difference; both yield the array\n",
    "# [[-4.0 -4.0]\n",
    "#  [-4.0 -4.0]]\n",
    "print(x - y)\n",
    "print(np.subtract(x, y))\n",
    "\n",
    "# Elementwise product; both yield the array\n",
    "# [[12.0 21.0]\n",
    "#  [32.0 45.0]]\n",
    "print(x * y)\n",
    "print(np.multiply(x, y))\n",
    "\n",
    "# Elementwise division; both yield the array\n",
    "# [[0.33333333 0.42857143]\n",
    "#  [0.5        0.55555556]]\n",
    "print(x / y)\n",
    "print(np.divide(x, y))\n",
    "\n",
    "# Elementwise square root; yields the array\n",
    "# [[1.41421356 1.73205081]\n",
    "#  [2.         2.23606798]]\n",
    "print(np.sqrt(x))"
   ]
  },
  {
   "cell_type": "code",
   "execution_count": null,
   "id": "4cf1a24f",
   "metadata": {},
   "outputs": [],
   "source": [
    "# Vectors, Matrices and Tensors\n",
    "\n",
    "# Vectors: 1-D arrays of numerical values\n",
    "# Matrices: 2-D arrays of numerical values\n",
    "# Tensors: arrays of three or more dimensions"
   ]
  },
  {
   "cell_type": "code",
   "execution_count": 48,
   "id": "f26f2f33",
   "metadata": {},
   "outputs": [
    {
     "name": "stdout",
     "output_type": "stream",
     "text": [
      "179\n",
      "179\n",
      "[ 52 120]\n",
      "[ 52 120]\n",
      "[[22 34]\n",
      " [46 74]]\n",
      "[[22 34]\n",
      " [46 74]]\n"
     ]
    }
   ],
   "source": [
    "# Filename: dot_product_example.py\n",
    "\n",
    "import numpy as np\n",
    "\n",
    "x = np.array([[2, 4], [6, 8]])\n",
    "y = np.array([[1, 3], [5, 7]])\n",
    "v = np.array([8, 9])\n",
    "w = np.array([10, 11])\n",
    "\n",
    "# Dot product of vectors; both yield 179\n",
    "print(v.dot(w))\n",
    "print(np.dot(v, w))\n",
    "\n",
    "# Matrix / vector product; both yield the rank 1 array [52 120]\n",
    "print(x.dot(v))\n",
    "print(np.dot(x, v))\n",
    "\n",
    "# Matrix / matrix product; both yield the rank 2 array\n",
    "# [[22 34]\n",
    "#  [46 74]]\n",
    "print(x.dot(y))\n",
    "print(np.dot(x, y))"
   ]
  },
  {
   "cell_type": "code",
   "execution_count": 49,
   "id": "515e9666",
   "metadata": {},
   "outputs": [
    {
     "name": "stdout",
     "output_type": "stream",
     "text": [
      "179\n",
      "179\n",
      "[ 43 103]\n",
      "[ 43 103]\n",
      "[[26 11]\n",
      " [62 26]]\n",
      "[[26 11]\n",
      " [62 26]]\n"
     ]
    }
   ],
   "source": [
    "# Filename: matrix_operations.py\n",
    "\n",
    "import numpy as np\n",
    "\n",
    "a = np.array([[2, 3], [5, 7]])\n",
    "b = np.array([[4, 1], [6, 3]])\n",
    "u = np.array([8, 9])\n",
    "v = np.array([10, 11])\n",
    "\n",
    "# Inner product of vectors; both yield 179\n",
    "print(np.matmul(u, v))\n",
    "print(u @ v)\n",
    "\n",
    "# Matrix / vector product; both yield the rank 1 array [43 103]\n",
    "print(np.matmul(a, u))\n",
    "print(a @ u)\n",
    "\n",
    "# Matrix / matrix product; both yield the rank 2 array\n",
    "# [[26 11]\n",
    "#  [62 26]]\n",
    "print(np.matmul(a, b))\n",
    "print(a @ b)"
   ]
  },
  {
   "cell_type": "code",
   "execution_count": null,
   "id": "ddf0438b",
   "metadata": {},
   "outputs": [
    {
     "name": "stdout",
     "output_type": "stream",
     "text": [
      "179\n",
      "179\n",
      "[ 52 120]\n",
      "[ 52 120]\n",
      "[[22 34]\n",
      " [46 74]]\n",
      "[[22 34]\n",
      " [46 74]]\n"
     ]
    }
   ],
   "source": [
    "# Filename: matrix_operations.py\n",
    "# Same as dot product example\n",
    "\n",
    "import numpy as np\n",
    "\n",
    "a = np.array([[2, 4], [6, 8]])\n",
    "b = np.array([[1, 3], [5, 7]])\n",
    "u = np.array([8, 9])\n",
    "v = np.array([10, 11])\n",
    "\n",
    "# Inner product of vectors; both yield 170\n",
    "print(np.matmul(u, v))\n",
    "print(u @ v)\n",
    "\n",
    "# Matrix / vector product; both yield the rank 1 array [52 120]\n",
    "print(np.matmul(a, u))\n",
    "print(a @ u)\n",
    "\n",
    "# Matrix / matrix product; both yield the rank 2 array\n",
    "# [[22 34]\n",
    "#  [46 74]]\n",
    "print(np.matmul(a, b))\n",
    "print(a @ b)"
   ]
  },
  {
   "cell_type": "code",
   "execution_count": 50,
   "id": "f68fc8cc",
   "metadata": {},
   "outputs": [
    {
     "name": "stdout",
     "output_type": "stream",
     "text": [
      "12.5\n",
      "[10. 15.]\n",
      "[ 7.5 17.5]\n"
     ]
    }
   ],
   "source": [
    "# Filename: mean_func.py\n",
    " \n",
    "import numpy as np\n",
    "\n",
    "y = np.array([[5, 10], [15, 20]])\n",
    "\n",
    "print(np.mean(y))          # Calculate the mean of all elements; output 12.5\n",
    "print(np.mean(y, axis=0))  # Calculate the mean of each column; output [10. 15.]\n",
    "print(np.mean(y, axis=1))  # Calculate the mean of each row; output [7.5 17.5]"
   ]
  },
  {
   "cell_type": "code",
   "execution_count": 51,
   "id": "217e3ee5",
   "metadata": {},
   "outputs": [
    {
     "name": "stdout",
     "output_type": "stream",
     "text": [
      "[[5 6]\n",
      " [7 8]]\n",
      "[[5 7]\n",
      " [6 8]]\n",
      "[[5 7]\n",
      " [6 8]]\n",
      "[[5 7]\n",
      " [6 8]]\n"
     ]
    }
   ],
   "source": [
    "# Matrix transposition\n",
    "\n",
    "# Filename: transpose_example.py\n",
    "\n",
    "import numpy as np\n",
    "\n",
    "a = np.array([[5, 6], [7, 8]])\n",
    "print(a)               # Output [[5 6]\n",
    "                       #         [7 8]]\n",
    "print(a.T)             # Output [[5 7]\n",
    "                       #         [6 8]]\n",
    "print(np.transpose(a)) # Output [[5 7]\n",
    "                       #         [6 8]]\n",
    "print(a.transpose())   # Output [[5 7]\n",
    "                       #         [6 8]]"
   ]
  },
  {
   "cell_type": "code",
   "execution_count": 52,
   "id": "6ecfdd62",
   "metadata": {},
   "outputs": [
    {
     "name": "stdout",
     "output_type": "stream",
     "text": [
      "[[[ 0  3  6  9]\n",
      "  [12 15 18 21]]\n",
      "\n",
      " [[ 1  4  7 10]\n",
      "  [13 16 19 22]]\n",
      "\n",
      " [[ 2  5  8 11]\n",
      "  [14 17 20 23]]]\n",
      "[[[ 0  3  6  9]\n",
      "  [12 15 18 21]]\n",
      "\n",
      " [[ 1  4  7 10]\n",
      "  [13 16 19 22]]\n",
      "\n",
      " [[ 2  5  8 11]\n",
      "  [14 17 20 23]]]\n"
     ]
    }
   ],
   "source": [
    "# Filename: transpose_example2.py\n",
    "\n",
    "import numpy as np\n",
    "# Create a 3D array\n",
    "# (2 layers, 4 rows, and 3 columns)\n",
    "# with numbers 0 to 23.\n",
    "array = np.array([[[ 0,  1,  2],\n",
    "                   [ 3,  4,  5],\n",
    "                   [ 6,  7,  8],\n",
    "                   [ 9, 10, 11]],\n",
    "                  [[12, 13, 14],\n",
    "                   [15, 16, 17],\n",
    "                   [18, 19, 20],\n",
    "                   [21, 22, 23]]])\n",
    "\n",
    "# The transpose function can rearrange the axes of the array.\n",
    "# For instance, if we want to \n",
    "# move the current last axis (i.e., 2) \n",
    "# to the front (as axis 0),\n",
    "# shift the current first axis (i.e., 0) \n",
    "# to the middle (as axis 1),\n",
    "# and place the current second axis (i.e., 1) \n",
    "# at the end (as axis 2).\n",
    "# We specify the order in transpose as [2, 0, 1].\n",
    "print(np.transpose(array, [2, 0, 1])) \n",
    "# Equivalent output using the line below\n",
    "print(array.transpose([2, 0, 1]))\n",
    "\n",
    "# Output will be [[[ 0  3  6  9]                \n",
    "#                  [12 15 18 21]]\n",
    "#\n",
    "#                 [[ 1  4  7 10]\n",
    "#                  [13 16 19 22]]\n",
    "#\n",
    "#                 [[ 2  5  8 11]\n",
    "#                  [14 17 20 23]]]"
   ]
  },
  {
   "cell_type": "code",
   "execution_count": null,
   "id": "c6941431",
   "metadata": {},
   "outputs": [
    {
     "name": "stdout",
     "output_type": "stream",
     "text": [
      "[[[ 0  3  6  9]\n",
      "  [ 1  4  7 10]\n",
      "  [ 2  5  8 11]]\n",
      "\n",
      " [[12 15 18 21]\n",
      "  [13 16 19 22]\n",
      "  [14 17 20 23]]]\n",
      "[[[ 0  1  2]\n",
      "  [12 13 14]]\n",
      "\n",
      " [[ 3  4  5]\n",
      "  [15 16 17]]\n",
      "\n",
      " [[ 6  7  8]\n",
      "  [18 19 20]]\n",
      "\n",
      " [[ 9 10 11]\n",
      "  [21 22 23]]]\n",
      "[[[ 0 12]\n",
      "  [ 1 13]\n",
      "  [ 2 14]]\n",
      "\n",
      " [[ 3 15]\n",
      "  [ 4 16]\n",
      "  [ 5 17]]\n",
      "\n",
      " [[ 6 18]\n",
      "  [ 7 19]\n",
      "  [ 8 20]]\n",
      "\n",
      " [[ 9 21]\n",
      "  [10 22]\n",
      "  [11 23]]]\n",
      "[[[ 0  3  6  9]\n",
      "  [12 15 18 21]]\n",
      "\n",
      " [[ 1  4  7 10]\n",
      "  [13 16 19 22]]\n",
      "\n",
      " [[ 2  5  8 11]\n",
      "  [14 17 20 23]]]\n",
      "[[[ 0 12]\n",
      "  [ 3 15]\n",
      "  [ 6 18]\n",
      "  [ 9 21]]\n",
      "\n",
      " [[ 1 13]\n",
      "  [ 4 16]\n",
      "  [ 7 19]\n",
      "  [10 22]]\n",
      "\n",
      " [[ 2 14]\n",
      "  [ 5 17]\n",
      "  [ 8 20]\n",
      "  [11 23]]]\n"
     ]
    }
   ],
   "source": [
    "# PS: I think it is the most difficult part of NumPy in this syllabus.\n",
    "\n",
    "# Example for transpose with different order\n",
    "\n",
    "import numpy as np\n",
    "\n",
    "array = np.array([[[ 0,  1,  2],\n",
    "                   [ 3,  4,  5],\n",
    "                   [ 6,  7,  8],\n",
    "                   [ 9, 10, 11]],\n",
    "                  [[12, 13, 14],\n",
    "                   [15, 16, 17],\n",
    "                   [18, 19, 20],\n",
    "                   [21, 22, 23]]])\n",
    "\n",
    "# 0: The big matrix\n",
    "# 1: Rows\n",
    "# 2: Columns\n",
    "\n",
    "print(np.transpose(array, [0, 2, 1]))\n",
    "\n",
    "print(array.transpose([1, 0, 2]))\n",
    "\n",
    "print(array.transpose([1, 2, 0]))\n",
    "\n",
    "print(array.transpose([2, 0, 1]))\n",
    "\n",
    "print(array.transpose([2, 1, 0]))\n",
    "\n",
    "\n",
    "\n",
    "\n"
   ]
  },
  {
   "cell_type": "code",
   "execution_count": null,
   "id": "c76b203f",
   "metadata": {},
   "outputs": [
    {
     "name": "stdout",
     "output_type": "stream",
     "text": [
      "[1 2 3]\n",
      "[1 2 3]\n",
      "[1 2 3]\n"
     ]
    }
   ],
   "source": [
    "# Filename: transpose_example3.py\n",
    "\n",
    "# It is important to note that transposing a one-dimensional array has no effect.\n",
    "\n",
    "import numpy as np\n",
    "\n",
    "vector = np.array([1, 2, 3])\n",
    "print(vector)                # Output [1 2 3]\n",
    "print(vector.T)              # Output [1 2 3]\n",
    "print(np.transpose(vector))  # Output [1 2 3]"
   ]
  },
  {
   "cell_type": "code",
   "execution_count": 105,
   "id": "15ee372b",
   "metadata": {},
   "outputs": [
    {
     "name": "stdout",
     "output_type": "stream",
     "text": [
      "[[ 10  20  30]\n",
      " [ 40  50  60]\n",
      " [ 70  80  90]\n",
      " [100 110 120]]\n",
      "Shape of array2: (4, 3)\n"
     ]
    }
   ],
   "source": [
    "# Array reshaping, i.e. changing the shape of an array\n",
    "\n",
    "# Syntax: np.reshape(<array>, <new_shape>)\n",
    "\n",
    "# Filename: reshape_example.py\n",
    "\n",
    "import numpy as np\n",
    "\n",
    "array1 = np.array([10, 20, 30, 40, 50, 60, 70, 80, 90, 100, 110, 120])\n",
    "array2 = array1.reshape(4, 3)   # Reshape array1 into a 2D array with 4 rows and 3 columns\n",
    "# array2 = array1.reshape(4, -1) # This line achieves the same result as array1.reshape(4, 3)\n",
    "print(array2) # Output [[ 10  20  30]\n",
    "               #         [ 40  50  60]\n",
    "               #         [ 70  80  90]\n",
    "               #         [100 110 120]]\n",
    "print(\"Shape of array2:\", array2.shape) # Output Shape of array2: (4, 3)"
   ]
  },
  {
   "cell_type": "code",
   "execution_count": null,
   "id": "5033cea8",
   "metadata": {},
   "outputs": [
    {
     "name": "stdout",
     "output_type": "stream",
     "text": [
      "[[[ 0  1  2  3]\n",
      "  [ 4  5  6  7]\n",
      "  [ 8  9 10 11]]\n",
      "\n",
      " [[12 13 14 15]\n",
      "  [16 17 18 19]\n",
      "  [20 21 22 23]]]\n"
     ]
    }
   ],
   "source": [
    "# Powerpoint Question\n",
    "\n",
    "import numpy as np\n",
    "\n",
    "array = np.arange(24).reshape(2, 3, 4)\n",
    "\n",
    "# 2 big matrix with 3 rows and 4 columns\n",
    "\n",
    "print(array)"
   ]
  },
  {
   "cell_type": "code",
   "execution_count": null,
   "id": "97c9fba0",
   "metadata": {},
   "outputs": [
    {
     "name": "stdout",
     "output_type": "stream",
     "text": [
      "[10 20 30 40 50]\n",
      "[[10 20 30 40 50]]\n",
      "[[10 20 30 40 50]]\n",
      "[[ 7  8  9]\n",
      " [10 11 12]]\n",
      "[[[ 7  8  9]\n",
      "  [10 11 12]]]\n"
     ]
    }
   ],
   "source": [
    "# Expanding Array Dimensions\n",
    "\n",
    "# i.e. arr = np.array([1, 2, 3, 4]) -> np.array([[1], [2], [3], [4]])\n",
    "# From 1-D array to 2-D array\n",
    "\n",
    "# Filename: newaxis_example.py\n",
    "\n",
    "import numpy as np\n",
    "\n",
    "array1 = np.array([10, 20, 30, 40, 50])\n",
    "print(array1)  # Output: [10 20 30 40 50]\n",
    "\n",
    "# Convert 1D array to a row vector using np.newaxis\n",
    "# Important: np.newaxis is an alias for None\n",
    "array2 = array1[np.newaxis]\n",
    "print(array2)  # Output: [[10 20 30 40 50]]\n",
    "\n",
    "# Convert 1D array to a row vector using None\n",
    "array3 = array1[None]\n",
    "print(array3)  # Output: [[10 20 30 40 50]]\n",
    "\n",
    "array4 = np.array([[7, 8, 9], [10, 11, 12]])\n",
    "print(array4)  # Output: [[ 7  8  9]\n",
    "               #          [10 11 12]]\n",
    "\n",
    "array5 = array4[np.newaxis]\n",
    "print(array5)  # Output: [[[ 7  8  9]\n",
    "               #           [10 11 12]]]"
   ]
  },
  {
   "cell_type": "code",
   "execution_count": null,
   "id": "cff51f83",
   "metadata": {},
   "outputs": [
    {
     "name": "stdout",
     "output_type": "stream",
     "text": [
      "[[ 7  8  9]\n",
      " [10 11 12]]\n",
      "[[[ 7]\n",
      "  [ 8]\n",
      "  [ 9]]\n",
      "\n",
      " [[10]\n",
      "  [11]\n",
      "  [12]]]\n",
      "(2, 3, 1)\n"
     ]
    }
   ],
   "source": [
    "# Filename: newaxis_example2.py\n",
    "\n",
    "import numpy as np\n",
    "\n",
    "array1 = np.array([[7, 8, 9], [10, 11, 12]])\n",
    "print(array1)  # Output: [[ 7  8  9]\n",
    "               #          [10 11 12]]\n",
    "\n",
    "# np.newaxis adds a new dimension of size 1, i.e., 1 column\n",
    "array2 = array1[:, :, np.newaxis]  # Equivalent to array2 = array1[..., np.newaxis]\n",
    "\n",
    "# 0: big matrix\n",
    "# 1: rows\n",
    "# 2: columns\n",
    "\n",
    "print(array2)  # Output: [[[ 7] \n",
    "               #           [ 8] \n",
    "               #           [ 9]]\n",
    "               #          [[10]\n",
    "               #           [11]\n",
    "               #           [12]]]\n",
    "\n",
    "print(array2.shape) # Output: (2, 3, 1), indicating 2 layers, 3 rows, and 1 column"
   ]
  },
  {
   "cell_type": "code",
   "execution_count": 113,
   "id": "9e3073fe",
   "metadata": {},
   "outputs": [
    {
     "name": "stdout",
     "output_type": "stream",
     "text": [
      "[[ 5  6  7]\n",
      " [ 8  9 10]]\n",
      "[[[ 5  6  7]\n",
      "  [ 8  9 10]]]\n",
      "(1, 2, 3)\n"
     ]
    }
   ],
   "source": [
    "# Filename: newaxis_example3.py\n",
    "\n",
    "import numpy as np\n",
    "\n",
    "array1 = np.array([[5, 6, 7], [8, 9, 10]])\n",
    "print(array1)  # Output: [[ 5  6  7]\n",
    "               #          [ 8  9 10]]\n",
    "\n",
    "# np.newaxis adds a new dimension of size 1, i.e., 1 row\n",
    "# highest dimension, i.e., row\n",
    "array2 = array1[np.newaxis, :, :]\n",
    "\n",
    "print(array2)  # Output: [[[ 5  6  7]\n",
    "               #           [ 8  9 10]]]\n",
    "\n",
    "print(array2.shape) # Output: (1, 2, 3), indicating 1 layer, 2 rows, and 3 columns"
   ]
  },
  {
   "cell_type": "code",
   "execution_count": 115,
   "id": "9f88bda5",
   "metadata": {},
   "outputs": [
    {
     "name": "stdout",
     "output_type": "stream",
     "text": [
      "[[ 7  8  9]\n",
      " [10 11 12]]\n",
      "[[[ 7  8  9]]\n",
      "\n",
      " [[10 11 12]]]\n",
      "(2, 1, 3)\n"
     ]
    }
   ],
   "source": [
    "# Filename: expand_dims_example.py\n",
    " \n",
    "import numpy as np\n",
    "\n",
    "array1 = np.array([[7, 8, 9], [10, 11, 12]])\n",
    "print(array1)  # Output: [[ 7  8  9]\n",
    "               #          [10 11 12]]\n",
    "\n",
    "# 1 means adding a new dimension of size 1, after the 1st dimension\n",
    "array2 = np.expand_dims(array1, axis=1)\n",
    "\n",
    "print(array2)  # Output: [[[ 7  8  9]]\n",
    "               #          [[10 11 12]]]\n",
    "\n",
    "print(array2.shape) # Output: (2, 1, 3), indicating 2 layers, 1 row, and 3 columns"
   ]
  },
  {
   "cell_type": "code",
   "execution_count": 117,
   "id": "954ffae1",
   "metadata": {},
   "outputs": [
    {
     "name": "stdout",
     "output_type": "stream",
     "text": [
      "[[13 14 15]\n",
      " [16 17 18]]\n",
      "[[[13]\n",
      "  [14]\n",
      "  [15]]\n",
      "\n",
      " [[16]\n",
      "  [17]\n",
      "  [18]]]\n",
      "(2, 3, 1)\n"
     ]
    }
   ],
   "source": [
    "# Filename: expand_dims_example2.py\n",
    "   \n",
    "import numpy as np\n",
    "\n",
    "array1 = np.array([[13, 14, 15], [16, 17, 18]])\n",
    "print(array1)  # Output: [[13 14 15]\n",
    "               #          [16 17 18]]\n",
    "\n",
    "# 2 means adding a new dimension of size 1, after the 2nd dimension\n",
    "array2 = np.expand_dims(array1, axis=2)\n",
    "\n",
    "print(array2)  # Output: [[[13]\n",
    "               #           [14]\n",
    "               #           [15]]\n",
    "               #          [[16]\n",
    "               #           [17]\n",
    "               #           [18]]]\n",
    "\n",
    "print(array2.shape) # Output: (2, 3, 1), indicating 2 layers, 3 rows, and 1 column"
   ]
  },
  {
   "cell_type": "code",
   "execution_count": null,
   "id": "f52cdee1",
   "metadata": {},
   "outputs": [],
   "source": [
    "# View and Copy are already known so ignore this part."
   ]
  },
  {
   "cell_type": "code",
   "execution_count": null,
   "id": "e150f6c3",
   "metadata": {},
   "outputs": [],
   "source": [
    "import numpy as np\n",
    "\n",
    "# variables\n",
    "arr = np.array([1, 2, 3])\n",
    "new_shape = (3, 1)\n",
    "n = 1\n",
    "\n",
    "# Operations that produce a view\n",
    "arr[1:3]\n",
    "arr.reshape(new_shape)\n",
    "arr.transpose() # or arr.T, np.transpose(arr)\n",
    "arr.flatten()\n",
    "arr[:]\n",
    "arr.view()\n",
    "arr[np.newaxis]\n",
    "np.expand_dims(arr, axis=0)\n",
    "\n",
    "# Operations that produce a copy\n",
    "np.copy(arr)\n",
    "arr.copy()\n",
    "arr.astype(np.float64) # Converts to float64 and returns a copy\n",
    "np.array(arr) # Creates a new array (copy) from an exist one\n",
    "arr.tolist() # Converts to a Python list and returns a copy\n",
    "arr[np.arange(n)] # Integer array indexing always returns a copy\n"
   ]
  },
  {
   "cell_type": "code",
   "execution_count": null,
   "id": "74eb97d2",
   "metadata": {},
   "outputs": [
    {
     "name": "stdout",
     "output_type": "stream",
     "text": [
      "[[ 2  3  7]\n",
      " [ 5  6 10]\n",
      " [ 8  9 13]\n",
      " [11 12 16]]\n"
     ]
    }
   ],
   "source": [
    "# Broadcasting\n",
    "\n",
    "# When having a smaller array and a larger array, \n",
    "# NumPy can automatically expand the smaller array to match the shape of the larger array during arithmetic operations. \n",
    "# This is known as broadcasting.\n",
    "\n",
    "import numpy as np\n",
    "\n",
    "x = np.array([[1, 2, 3], [4, 5, 6], [7, 8, 9], [10, 11, 12]])\n",
    "add = np.array([1, 1, 4])\n",
    "y = x + add  # Broadcasting happens here\n",
    "print(y)  # Output: [[ 2  3  7]\n",
    "          #          [ 5  6 10]\n",
    "          #          [ 8  9 13]\n",
    "          #          [11 12 16]]"
   ]
  },
  {
   "cell_type": "code",
   "execution_count": null,
   "id": "e8b14f84",
   "metadata": {},
   "outputs": [
    {
     "name": "stdout",
     "output_type": "stream",
     "text": [
      "[[ 4  4  6]\n",
      " [ 7  7  9]\n",
      " [10 10 12]\n",
      " [13 13 15]]\n"
     ]
    }
   ],
   "source": [
    "# Filename: broadcasting_example.py\n",
    "\n",
    "# The mechanism of broadcasting is used to perform operations between arrays of different shapes.\n",
    "        \n",
    "import numpy as np\n",
    "\n",
    "# We will add the vector v to each row of the matrix x, storing the result in y\n",
    "x = np.array([[2, 3, 4], [5, 6, 7], [8, 9, 10], [11, 12, 13]])\n",
    "v = np.array([2, 1, 2])\n",
    "y = np.empty_like(x)   # Create an empty matrix with the same shape as x\n",
    "\n",
    "# Add the vector v to each row of the matrix x using an explicit loop\n",
    "for i in range(4):\n",
    "    y[i, :] = x[i, :] + v\n",
    "\n",
    "print(y)  # Output: [[ 4  4  6] \n",
    "          #          [ 7  7  9]\n",
    "          #          [10 10 12]\n",
    "          #          [13 13 15]]"
   ]
  },
  {
   "cell_type": "code",
   "execution_count": 123,
   "id": "a154ecd7",
   "metadata": {},
   "outputs": [
    {
     "name": "stdout",
     "output_type": "stream",
     "text": [
      "[[2 1 2]\n",
      " [2 1 2]\n",
      " [2 1 2]\n",
      " [2 1 2]]\n",
      "[[ 4  4  6]\n",
      " [ 7  7  9]\n",
      " [10 10 12]\n",
      " [13 13 15]]\n"
     ]
    }
   ],
   "source": [
    "# Filename: broadcasting_example2.py\n",
    "\n",
    "# Actually, example 1 and example 2 are the same.\n",
    "    \n",
    "import numpy as np\n",
    "\n",
    "# We will add the vector v to each row of the matrix x,\n",
    "# storing the result in the matrix y\n",
    "x = np.array([[2, 3, 4], [5, 6, 7], [8, 9, 10], [11, 12, 13]])\n",
    "v = np.array([2, 1, 2])\n",
    "vv = np.tile(v, (4, 1))   # Stack 4 copies of v on top of each other\n",
    "print(vv)                 # Output: [[2 1 2]\n",
    "                          #          [2 1 2]\n",
    "                          #          [2 1 2]\n",
    "                          #          [2 1 2]]\n",
    "y = x + vv                # Add x and vv elementwise\n",
    "\n",
    "print(y)                  # Output: [[ 4  4  6] \n",
    "                          #          [ 7  7  9]\n",
    "                          #          [10 10 12]\n",
    "                          #          [13 13 15]]"
   ]
  },
  {
   "cell_type": "code",
   "execution_count": 124,
   "id": "d10e31a1",
   "metadata": {},
   "outputs": [
    {
     "name": "stdout",
     "output_type": "stream",
     "text": [
      "[[ 4  4  6]\n",
      " [ 7  7  9]\n",
      " [10 10 12]\n",
      " [13 13 15]]\n"
     ]
    }
   ],
   "source": [
    "# Filename: broadcasting_demo.py\n",
    "\n",
    "import numpy as np\n",
    "\n",
    "# We will add the vector v to every row of the matrix x,\n",
    "# and store the results in the matrix y\n",
    "x = np.array([[2, 3, 4], [5, 6, 7], [8, 9, 10], [11, 12, 13]])\n",
    "v = np.array([2, 1, 2])\n",
    "y = x + v  # Add v to each row of x using broadcasting\n",
    "print(y)   # Print [[ 4  4  6]\n",
    "           #        [ 7  7  9]\n",
    "           #        [10 10 12]\n",
    "           #        [13 13 15]]"
   ]
  },
  {
   "cell_type": "code",
   "execution_count": null,
   "id": "ec1905de",
   "metadata": {},
   "outputs": [
    {
     "name": "stdout",
     "output_type": "stream",
     "text": [
      "1\n",
      "(3,)\n",
      "1\n",
      "(1,)\n",
      "[2 4 6]\n"
     ]
    }
   ],
   "source": [
    "# Filename: broadcasting_rule1.py\n",
    "  \n",
    "import numpy as np\n",
    "\n",
    "# A = np.array([1, 2, 3]) # shape (3,)\n",
    "# B = np.array([2]) # shape (1,)\n",
    "# Do they share the same rank? -> Rank 1 and Rank 1 -> Yes\n",
    "# Are they compatible in all dimensions? -> Since B has a size of 1 in that dimension -> Yes\n",
    "# Thus, they are compatible.\n",
    "\n",
    "A = np.array([1, 2, 3])\n",
    "print(A.ndim)     # Print 1\n",
    "print(A.shape)    # Print (3,)\n",
    "B = np.array([2])\n",
    "print(B.ndim)     # Print 1\n",
    "print(B.shape)    # Print (1,)\n",
    "print(A * B)      # Print [2, 4, 6]"
   ]
  },
  {
   "cell_type": "code",
   "execution_count": null,
   "id": "cd91197a",
   "metadata": {},
   "outputs": [
    {
     "name": "stdout",
     "output_type": "stream",
     "text": [
      "1\n",
      "(3,)\n",
      "2\n",
      "(2, 3)\n",
      "[[ 4  8 12]\n",
      " [ 3  6  9]]\n"
     ]
    }
   ],
   "source": [
    "# Filename: broadcasting_rule2.py\n",
    "         \n",
    "import numpy as np\n",
    "\n",
    "# A = np.array([1, 2, 3]) # shape (3,)\n",
    "# B = np.array([[4, 4, 4], [3, 3, 3]]) # shape (2, 3)\n",
    "# Do they share the same rank? -> Rank 1 and Rank 2 -> No\n",
    "# DO they share the same rightmost dimensions? -> Both of A and B are 3 -> Yes\n",
    "# Yes -> Add leading 1s to the shape of A -> (1, 3)\n",
    "# Are they compatible in all dimensions? -> Yes, since A has a size of 1 in that dimension\n",
    "# Thus, they are compatible.\n",
    "\n",
    "\n",
    "A = np.array([1, 2, 3])\n",
    "print(A.ndim)  # Print 1\n",
    "print(A.shape) # Print (3,)\n",
    "B = np.array([[4, 4, 4], [3, 3, 3]])\n",
    "print(B.ndim)  # Print 2\n",
    "print(B.shape) # Print (2, 3)\n",
    "print(A * B)   # Print [[ 4  8 12]\n",
    "               #        [ 3  6  9]]"
   ]
  },
  {
   "cell_type": "code",
   "execution_count": null,
   "id": "3b5eb136",
   "metadata": {},
   "outputs": [],
   "source": [
    "# Testing for broadcasting examples with different shapes\n",
    "\n",
    "import numpy as np\n",
    "\n",
    "# a = np.arange(225).reshape(15, 3, 5) # shape (15, 3, 5)\n",
    "# b = np.arange(45).reshape(15, 3)     # shape (15, 3)\n",
    "# Do they share the same rank? -> Rank 3 and Rank 2 -> No\n",
    "# No -> Do they share the same rightmost dimensions? -> A is 5 but B is 3 -> No\n",
    "# Thus, they are not compatible.\n",
    "\n",
    "a = np.arange(225).reshape(15, 3, 5)\n",
    "b = np.arange(45).reshape(15, 3)\n",
    "\n",
    "print(a * b)\n",
    "\n",
    "\"\"\"\n",
    "ValueError                                Traceback (most recent call last)\n",
    "Cell In[136], line 15\n",
    "     12 a = np.arange(225).reshape(15, 3, 5)\n",
    "     13 b = np.arange(45).reshape(15, 3)\n",
    "---> 15 print(a * b)\n",
    "\n",
    "ValueError: operands could not be broadcast together with shapes (15,3,5) (15,3) \n",
    "\"\"\""
   ]
  },
  {
   "cell_type": "code",
   "execution_count": null,
   "id": "7cf8eaa6",
   "metadata": {},
   "outputs": [
    {
     "name": "stdout",
     "output_type": "stream",
     "text": [
      "[7. 8. 9.]\n",
      "[[-6. -6. -6.]\n",
      " [-3. -3. -3.]\n",
      " [ 0.  0.  0.]\n",
      " [ 3.  3.  3.]\n",
      " [ 6.  6.  6.]]\n",
      "[0. 0. 0.]\n"
     ]
    }
   ],
   "source": [
    "# Broadcasting in action\n",
    "\n",
    "# Filename: centering_a_dataset.py\n",
    "\n",
    "import numpy as np\n",
    "scores = np.array([[1, 2, 3], [4, 5, 6], [7, 8, 9], [10, 11, 12], [13, 14, 15]])\n",
    "score_mean = scores.mean(0)  # 0 indicates the first dimension, i.e. columns\n",
    "print(score_mean)            # Print array([7., 8., 9.])\n",
    "\n",
    "scores_centered = scores - score_mean\n",
    "print(scores_centered)    # Print array([[-6., -6., -6.],\n",
    "                          #              [-3., -3., -3.],\n",
    "                          #              [ 0.,  0.,  0.],\n",
    "                          #              [ 3.,  3.,  3.],\n",
    "                          #              [ 6.,  6.,  6.]])\n",
    "print(scores_centered.mean(axis=0))    # Print array([0., 0., 0.])"
   ]
  },
  {
   "cell_type": "code",
   "execution_count": null,
   "id": "7545b328",
   "metadata": {},
   "outputs": [],
   "source": [
    "# Why NumPy Arrays are Better?\n",
    "\n",
    "# NumPy arrays consume less memory than Python lists.\n",
    "# NumPy arrays are faster than Python lists for numerical operations.\n",
    "# NumPy arrays are more convenient and provide more functionality for numerical computations than Python lists."
   ]
  },
  {
   "cell_type": "code",
   "execution_count": null,
   "id": "89c5eed4",
   "metadata": {},
   "outputs": [],
   "source": [
    "# A NumPy arrays contains a single data type, while a Python list can contain elements of different data types.\n",
    "# A Python list contains a reference to a block of references, each of which references to a full Python object."
   ]
  },
  {
   "cell_type": "code",
   "execution_count": null,
   "id": "92a62895",
   "metadata": {},
   "outputs": [
    {
     "name": "stdout",
     "output_type": "stream",
     "text": [
      "Size of the whole list in bytes: 36056\n",
      "Size of the whole NumPy array in bytes: 8112\n"
     ]
    }
   ],
   "source": [
    "# Filename: memory_consumption.py\n",
    "\n",
    "import numpy as np, sys, gc  # Import numpy package, system, and gc module\n",
    "\n",
    "def actualsize(input_object):\n",
    "    memory_size = 0                # memory_size: the actual memory size of \"input_object\"\n",
    "                                   # Initialize it to 0\n",
    "    ids = set()                    # ids: An empty set to store all the ids of objects in \"input_object\"\n",
    "    objects = [input_object]       # objects: A list with \"input_object\" (traverse from \"input_object\")\n",
    "    while objects:                 # While \"objects\" is non-empty\n",
    "        new = []                   # new: An empty list to keep the items linked by \"objects\"\n",
    "        for obj in objects:        # obj: Each object in \"objects\"\n",
    "            if id(obj) not in ids: # If the id of \"obj\" is not in \"ids\"\n",
    "               ids.add(id(obj))    # Add the id of the \"obj\" to \"ids\"\n",
    "               memory_size += sys.getsizeof(obj) # Use getsizeof to determine the size of \"obj\"\n",
    "                                   # and add it to \"memory_size\"\n",
    "               new.append(obj)     # Add \"obj\" to \"new\"\n",
    "        objects = gc.get_referents(*new)  # Update \"objects\" with the list of objects directly\n",
    "                                          # referred to by *new\n",
    "    return memory_size             # Return \"memory_size\"\n",
    "\n",
    "L = list(range(0, 1000))           # Define a Python list of 1000 elements\n",
    "A = np.arange(1000)                # Define a NumPy array of 1000 elements\n",
    "# Print size of the whole list, it prints \"Size of the whole list in bytes: 36056\"\n",
    "print(\"Size of the whole list in bytes:\", actualsize(L))\n",
    "# Print size of the whole NumPy array, it prints \"Size of the whole NumPy array in bytes: 8112\"\n",
    "print(\"Size of the whole NumPy array in bytes:\", actualsize(A))"
   ]
  },
  {
   "cell_type": "code",
   "execution_count": 153,
   "id": "52cbcbc1",
   "metadata": {},
   "outputs": [
    {
     "name": "stdout",
     "output_type": "stream",
     "text": [
      "Time taken by Lists: 0.06737136840820312 s\n",
      "Time taken by NumPy Arrays: 0.0036592483520507812 s\n"
     ]
    }
   ],
   "source": [
    "# Filename: time_comparison.py\n",
    "\n",
    "# TODO: Try to use decorator instead of just writing the code directly.\n",
    "\n",
    "import numpy as np       # Import required packages\n",
    "import time as t\n",
    "\n",
    "size = 1000000           # Size of arrays and lists\n",
    "\n",
    "list1 = range(size)      # Declare lists\n",
    "list2 = range(size)\n",
    "array1 = np.arange(size) # Declare arrays\n",
    "array2 = np.arange(size)\n",
    "\n",
    "# Capture time before the multiplication of Python lists\n",
    "initialTime = t.time()\n",
    "# Multiply elements of both lists and store in another list\n",
    "resultList = [(a * b) for a, b in zip(list1, list2)]\n",
    "# Calculate execution time, it prints \"Time taken by Lists: 0.13024258613586426 s\"\n",
    "print(\"Time taken by Lists:\", (t.time() - initialTime), \"s\")\n",
    "\n",
    "# Capture time before the multiplication of NumPy arrays\n",
    "initialTime = t.time()\n",
    "# Multiply elements of both NumPy arrays and store in another NumPy array\n",
    "resultArray = array1 * array2\n",
    "# Calculate execution time, it prints \"Time taken by NumPy Arrays: 0.006006956100463867 s\"\n",
    "print(\"Time taken by NumPy Arrays:\", (t.time() - initialTime), \"s\")"
   ]
  },
  {
   "cell_type": "code",
   "execution_count": 154,
   "id": "c3317029",
   "metadata": {},
   "outputs": [
    {
     "name": "stdout",
     "output_type": "stream",
     "text": [
      "Lists don't support list + int\n",
      "Modified NumPy array:  [5 6 7]\n"
     ]
    }
   ],
   "source": [
    "# Filename: effect_of_operations.py\n",
    "\n",
    "import numpy as np # Import NumPy package\n",
    "\n",
    "ls = [1, 2, 3]      # Declare a list\n",
    "arr = np.array(ls)  # Convert the list into a NumPy array\n",
    "\n",
    "try:\n",
    "    ls = ls + 4    # Add 4 to each element of the list\n",
    "except TypeError:\n",
    "    print(\"Lists don't support list + int\")\n",
    "\n",
    "# Now on the array\n",
    "try:\n",
    "    arr = arr + 4  # Add 4 to each element of the NumPy array\n",
    "    print(\"Modified NumPy array: \", arr)  # Print the NumPy array\n",
    "except TypeError:\n",
    "    print(\"NumPy arrays don't support array + int\")\n",
    "\n",
    "# Note: In COMP1023, try-except is not covered.\n",
    "# But why don't cover this???? It is very important so you must know it."
   ]
  },
  {
   "cell_type": "code",
   "execution_count": 155,
   "id": "a36c93ea",
   "metadata": {},
   "outputs": [],
   "source": [
    "# Key Terms and Acknowledgments\n",
    "\n",
    "# Array indexing and slicing\n",
    "# Boolean array indexing\n",
    "# Broadcasting\n",
    "# Dot product\n",
    "# expand_dims\n",
    "# Integer array indexing\n",
    "# Matrix\n",
    "# Matrix multiplication\n",
    "# newaxis\n",
    "# NumPy array\n",
    "# Rank\n",
    "# Reshaping\n",
    "# Shape\n",
    "# Sum function\n",
    "# Tensor\n",
    "# Transpose\n",
    "# Vector\n"
   ]
  },
  {
   "cell_type": "code",
   "execution_count": 156,
   "id": "280aae0e",
   "metadata": {},
   "outputs": [
    {
     "name": "stdout",
     "output_type": "stream",
     "text": [
      "(array([1, 4]),)\n",
      "[3 4]\n",
      "71\n",
      "0\n",
      "27.166666666666668\n",
      "27.088845592892206\n",
      "17.5\n",
      "[1 2 3 4 5 6]\n",
      "[5 7 9]\n",
      "[-3 -3 -3]\n",
      "[ 4 10 18]\n",
      "[0.25 0.4  0.5 ]\n",
      "6\n",
      "[0.         0.69314718 1.09861229]\n",
      "[8 8 8 8 8]\n",
      "[2 3 5 6 7]\n",
      "2\n",
      "0\n",
      "[0 3 1 4 2]\n",
      "[[ 0.17647059 -0.00326797 -0.02287582]\n",
      " [ 0.05882353 -0.13071895  0.08496732]\n",
      " [-0.11764706  0.1503268   0.05228758]]\n",
      "-306.0\n",
      "[[6 1 1]\n",
      " [4 2 5]\n",
      " [2 8 7]]\n",
      "[33 66 99]\n",
      "[[ 6 12]\n",
      " [30 36]\n",
      " [54 60]]\n",
      "[[15 21]\n",
      " [39 45]]\n"
     ]
    }
   ],
   "source": [
    "# Other built-in functions\n",
    "# Answer to some practice problems on PowerPoint\n",
    "# Review the concepts\n",
    "\n",
    "# Summary\n",
    "\n",
    "import numpy as np\n",
    "\n",
    "# Array generations\n",
    "# Create arrays of different shapes and values (e.g., zeros, ones, full, eye, random)\n",
    "# a = np.zeros((3,3))\n",
    "# a = np.ones((2,3))\n",
    "# a = np.full((3,2), 5)\n",
    "# a = np.eye(3)\n",
    "# a = np.random.rand(3,2)\n",
    "\n",
    "# Find the indices of non-zero elements in the array\n",
    "a = np.array([0, 3, 0, 0, 4, 0])\n",
    "print(a.nonzero())\n",
    "\n",
    "\n",
    "# Filter the array to include only non-zero elements\n",
    "print(a[a != 0])\n",
    "\n",
    "# Compute various statistics of the array (i.e. max, min, mean, std, median)\n",
    "a = np.array([1, 13, 0, 56, 71, 22])\n",
    "print(np.max(a))\n",
    "print(np.min(a))\n",
    "print(np.mean(a))\n",
    "print(np.std(a))\n",
    "print(np.median(a))\n",
    "\n",
    "# Create a 4x4 array with values ranging from 0 to 15\n",
    "a = np.arange(0, 16).reshape(4, 4)\n",
    "# print(a)\n",
    "\n",
    "# Transpose the array in different ways\n",
    "# print(a.T)\n",
    "# print(np.transpose(a))\n",
    "# print(a.transpose())\n",
    "\n",
    "# Append values to the end of an array\n",
    "a = np.array([1, 2, 3])\n",
    "print(np.append(arr=a, values=[4, 5, 6]))\n",
    "\n",
    "# Perform element-wise arithmetic operations (addition, subtraction, multiplication, division) on two arrays\n",
    "a = np.array([1, 2, 3])\n",
    "b = np.array([4, 5, 6])\n",
    "print(a + b)\n",
    "print(a - b)\n",
    "print(a * b)\n",
    "print(a / b)\n",
    "\n",
    "# Calculate the sum of all elements in an array\n",
    "print(np.sum(a))\n",
    "\n",
    "# Calculate the natural logarithm of each element in an array\n",
    "print(np.log(a))\n",
    "\n",
    "# Create a 1-D array of size 5 filled with the value 8\n",
    "a = np.full((5, ), 8)\n",
    "print(a)\n",
    "\n",
    "# Sort an array and find the indices of the maximum and minimum values\n",
    "a = np.array([2, 5, 7, 3, 6])\n",
    "print(np.sort(a)) # Sorted array\n",
    "print(np.argmax(a))\n",
    "print(np.argmin(a)) # Indices of max and min values\n",
    "print(np.argsort(a)) # Indices that would sort the array\n",
    "\n",
    "# Perform matrix operations (e.g., inverse, determinant) on a 3x3 matrix\n",
    "a = np.array([[6, 1, 1], [4, -2, 5], [2, 8, 7]])\n",
    "print(np.linalg.inv(a)) # Inverse of a matrix\n",
    "print(np.linalg.det(a)) # Determinant of a matrix\n",
    "\n",
    "# Calculate the absolute value of each element in an array\n",
    "print(np.abs(a)) # Absolute values of each element\n",
    "\n",
    "# Extract a specific column from a 2-D array\n",
    "a = np.array([[11, 22, 33], [44, 55, 66], [77, 88, 99]])\n",
    "b = a[:, 2]\n",
    "print(b)\n",
    "\n",
    "# Extract the sub-array consisiting of the odd rows and even columns from a 5x4 array.\n",
    "a = np.array([[3, 6, 9, 12], [15, 18, 21, 24], [27, 30, 33, 36], [39, 42, 45, 48], [51, 54, 57, 60]])\n",
    "print(a[::2, 1::2])\n",
    "\n",
    "# Extract the sub-array consisiting of the even rows and odd columns from a 5x4 array.\n",
    "print(a[1::2, ::2])\n"
   ]
  }
 ],
 "metadata": {
  "kernelspec": {
   "display_name": "Python 3",
   "language": "python",
   "name": "python3"
  },
  "language_info": {
   "codemirror_mode": {
    "name": "ipython",
    "version": 3
   },
   "file_extension": ".py",
   "mimetype": "text/x-python",
   "name": "python",
   "nbconvert_exporter": "python",
   "pygments_lexer": "ipython3",
   "version": "3.13.7"
  }
 },
 "nbformat": 4,
 "nbformat_minor": 5
}
