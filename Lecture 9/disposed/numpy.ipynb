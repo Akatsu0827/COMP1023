{
 "cells": [
  {
   "cell_type": "markdown",
   "id": "71862753",
   "metadata": {},
   "source": [
    "- NumPy stands for Numerical Python and serves as the fundamental library for numerical and scientific calculations in the Python programming language.\n",
    "- It offers a high-efficiency multidimensional array structure along with various tools for manipulating these arrays."
   ]
  },
  {
   "cell_type": "code",
   "execution_count": 6,
   "id": "2d6a261c",
   "metadata": {},
   "outputs": [
    {
     "name": "stdout",
     "output_type": "stream",
     "text": [
      "<class 'numpy.ndarray'>\n",
      "[[ 114  514]\n",
      " [1919  810]]\n",
      "(2, 2)\n",
      "514 1919\n",
      "[[-0.00090601  0.00057493]\n",
      " [ 0.00214647 -0.00012751]]\n"
     ]
    }
   ],
   "source": [
    "import numpy as np\n",
    "\n",
    "a = np.array([[114, 514], [1919, 810]])\n",
    "print(type(a))\n",
    "print(a)\n",
    "print(a.shape)\n",
    "print(a[0, 1], a[1, 0])\n",
    "print(np.linalg.inv(a))\n",
    "\n"
   ]
  },
  {
   "cell_type": "markdown",
   "id": "f65c89c1",
   "metadata": {},
   "source": [
    "- A NumPy array represents a grid of values that are all of the same data type and are indexed by a tuple of non-negative integers.\n",
    "- The number of dimensions in the array is referred to as the rank.\n",
    "- The shape of an array is defined as a tuple of integers that specifies the size of the array in each dimension.\n",
    "- We can create NumPy arrays from nested lists in Python and retrieve elements using\n",
    "square brackets.\n"
   ]
  },
  {
   "cell_type": "code",
   "execution_count": 7,
   "id": "de0233e2",
   "metadata": {},
   "outputs": [
    {
     "name": "stdout",
     "output_type": "stream",
     "text": [
      "[[0. 0. 0.]\n",
      " [0. 0. 0.]\n",
      " [0. 0. 0.]]\n",
      "[[1. 1. 1.]\n",
      " [1. 1. 1.]]\n",
      "[[5 5]\n",
      " [5 5]\n",
      " [5 5]]\n",
      "[[1. 0. 0.]\n",
      " [0. 1. 0.]\n",
      " [0. 0. 1.]]\n",
      "[[0.96641497 0.04581583]\n",
      " [0.15885446 0.97673947]\n",
      " [0.85440888 0.82036291]]\n"
     ]
    }
   ],
   "source": [
    "# Filename: array_generation.py\n",
    "import numpy as np\n",
    "a = np.zeros((3,3)) # Generate an array filled with zeros\n",
    "print(a) \n",
    "# Output: \n",
    "# [[ 0. 0. 0.]\n",
    "# [ 0. 0. 0.]\n",
    "# [ 0. 0. 0.]]\n",
    "b = np.ones((2,3)) # Generate an array filled with ones\n",
    "print(b) \n",
    "# Output: \n",
    "# [[ 1. 1. 1.]\n",
    "# [ 1. 1. 1.]]\n",
    "c = np.full((3,2), 5) # Generate an array with a constant value\n",
    "print(c) \n",
    "# Output: \n",
    "# [[ 5 5]\n",
    "# [ 5 5]\n",
    "# [ 5 5]]\n",
    "d = np.eye(3) # Generate a 3x3 identity matrix\n",
    "print(d) \n",
    "# Output: \n",
    "# [[ 1. 0. 0.]\n",
    "# [ 0. 1. 0.]\n",
    "# [ 0. 0. 1.]]\n",
    "e = np.random.rand(3,2) # Generate an array with random values\n",
    "print(e) \n",
    "# Output: \n",
    "# [[ 0.12345678 0.87654321]\n",
    "# [ 0.23456789 0.76543210]\n",
    "# [ 0.34567890 0.65432109]]"
   ]
  },
  {
   "cell_type": "markdown",
   "id": "a651d857",
   "metadata": {},
   "source": [
    "- NumPy offers a variety of functions to create arrays."
   ]
  },
  {
   "cell_type": "code",
   "execution_count": 8,
   "id": "6f8c7a90",
   "metadata": {},
   "outputs": [
    {
     "name": "stdout",
     "output_type": "stream",
     "text": [
      "[[2 3 4]\n",
      " [7 8 9]]\n",
      "[ 3  8 13]\n",
      "[ 6  7  8  9 10]\n",
      "[14 15]\n"
     ]
    }
   ],
   "source": [
    "# Slicing Numpy Arrays\n",
    "import numpy as np\n",
    "a = np.array([[1,2,3,4,5],\n",
    "              [6,7,8,9,10],\n",
    "              [11,12,13,14,15]])\n",
    "print(a[0:2, 1:4]) # Slicing rows 0-1 and columns 1-3\n",
    "# Output:  [[2 3 4]\n",
    "#           [7 8 9]]\n",
    "print(a[:, 2])    # All rows, column 2\n",
    "# Output:  [ 3  8 13]\n",
    "print(a[1, :])    # Row 1, all columns\n",
    "# Output:  [ 6  7  8  9 10]\n",
    "print(a[-1, -2:]) # Last row, last two columns\n",
    "# Output:  [14 15]\n",
    "# NumPy offers a variety of functions to create arrays."
   ]
  },
  {
   "cell_type": "code",
   "execution_count": 9,
   "id": "da0b17f5",
   "metadata": {},
   "outputs": [
    {
     "name": "stdout",
     "output_type": "stream",
     "text": [
      "[[3 7]\n",
      " [2 8]]\n",
      "[ 7  8 12]\n",
      "[ 6  2  8  9 10]\n",
      "[14 15]\n"
     ]
    }
   ],
   "source": [
    "# Exercise\n",
    "\n",
    "a = np.array([[1,3,7,4,5],\n",
    "              [6,2,8,9,10],\n",
    "              [11,13,12,14,15]])\n",
    "print(a[0:2,1:3]) # (a)\n",
    "print(a[:, 2]) # (b)\n",
    "print(a[1, :])  # (c)\n",
    "print(a[-1, -2:]) # (d)"
   ]
  },
  {
   "cell_type": "markdown",
   "id": "02eccffa",
   "metadata": {},
   "source": [
    "![alt text](capture/image.png)"
   ]
  },
  {
   "cell_type": "code",
   "execution_count": 10,
   "id": "bd253165",
   "metadata": {},
   "outputs": [
    {
     "name": "stdout",
     "output_type": "stream",
     "text": [
      "30\n",
      "99\n"
     ]
    }
   ],
   "source": [
    "# Filename: array_indexing_slicing_example.py\n",
    "\n",
    "import numpy as np\n",
    "\n",
    "# Create a rank 2 array with shape (3, 4)\n",
    "# [[10  20  30  40]\n",
    "#  [50  60  70  80]\n",
    "#  [90 100 110 120]]\n",
    "a = np.array([[10, 20, 30, 40], [50, 60, 70, 80], [90, 100, 110, 120]])\n",
    "# Use slicing to extract a subarray containing the first 2 rows\n",
    "# and columns 2 and 3; b will be the following array of shape (2, 2):\n",
    "# [[30 40]\n",
    "#  [70 80]]\n",
    "b = a[:2, 2:4]\n",
    "# A slice of an array is a view of the original data, so changing it\n",
    "# will also change the original array.\n",
    "print(a[0, 2])   # Output: 30\n",
    "b[0, 0] = 99     # b[0, 0] refers to the same data as a[0, 2]\n",
    "print(a[0, 2])   # Output: 99"
   ]
  },
  {
   "cell_type": "code",
   "execution_count": 11,
   "id": "0bc824fa",
   "metadata": {},
   "outputs": [
    {
     "name": "stdout",
     "output_type": "stream",
     "text": [
      "[19 20 21 22] (4,)\n",
      "[[19 20 21 22]] (1, 4)\n",
      "[13 17 21] (3,)\n",
      "[[13]\n",
      " [17]\n",
      " [21]] (3, 1)\n"
     ]
    }
   ],
   "source": [
    "# Filename: array_indexing_slicing_example2.py\n",
    "\n",
    "import numpy as np\n",
    "\n",
    "# Create a rank 2 array with shape (3, 4)\n",
    "# [[ 11  12  13  14]\n",
    "#  [ 15  16  17  18]\n",
    "#  [ 19  20  21  22]]\n",
    "a = np.array([[11, 12, 13, 14], [15, 16, 17, 18], [19, 20, 21, 22]])\n",
    "\n",
    "# Mixing integer indexing with slices yields an array of lower rank, \n",
    "# while using only slices yields an array of the same rank as the original:\n",
    "row_r1 = a[2, :]    # Rank 1 view of the third row of a\n",
    "row_r2 = a[2:3, :]  # Rank 2 view of the third row of a\n",
    "print(row_r1, row_r1.shape)  # Output: [19 20 21 22] (4,)\n",
    "print(row_r2, row_r2.shape)  # Output: [[19 20 21 22]] (1, 4)\n",
    "\n",
    "# The same distinction applies when accessing columns of an array:\n",
    "col_r1 = a[:, 2]\n",
    "col_r2 = a[:, 2:3]\n",
    "print(col_r1, col_r1.shape)  # Output: [13 17 21] (3,)\n",
    "print(col_r2, col_r2.shape)  # Output: [[13]\n",
    "                             #          [17]\n",
    "                             #          [21]] (3, 1)"
   ]
  },
  {
   "cell_type": "code",
   "execution_count": 12,
   "id": "a93a2835",
   "metadata": {},
   "outputs": [
    {
     "name": "stdout",
     "output_type": "stream",
     "text": [
      "[ 8  9 12]\n",
      "[ 8  9 12]\n",
      "[9 9]\n",
      "[9 9]\n"
     ]
    }
   ],
   "source": [
    "# Filename: integer_array_indexing_example.py\n",
    "\n",
    "import numpy as np\n",
    "\n",
    "a = np.array([[7, 8], [9, 10], [11, 12]])\n",
    "\n",
    "# An example of integer array indexing.\n",
    "# The returned array will have shape (3,)\n",
    "print(a[[0, 1, 2], [1, 0, 1]])  # Output: [ 8  9 12]\n",
    "\n",
    "# The above example of integer array indexing is equivalent to this:\n",
    "print(np.array([a[0, 1], a[1, 0], a[2, 1]]))  # Output: [ 8  9 12]\n",
    "\n",
    "# When using integer array indexing, you can reuse the same\n",
    "# element from the source array:\n",
    "print(a[[1, 1], [0, 0]])  # Output: [9 9]\n",
    "\n",
    "# Equivalent to the previous integer array indexing example\n",
    "print(np.array([a[1, 0], a[1, 0]]))  # Output: [9 9]"
   ]
  },
  {
   "cell_type": "code",
   "execution_count": 13,
   "id": "0f14881b",
   "metadata": {},
   "outputs": [
    {
     "name": "stdout",
     "output_type": "stream",
     "text": [
      "[[13 14 15]\n",
      " [16 17 18]\n",
      " [19 20 21]\n",
      " [22 23 24]]\n",
      "[14 16 21 23]\n",
      "[[13 19 15]\n",
      " [21 17 18]\n",
      " [19 20 26]\n",
      " [22 28 24]]\n"
     ]
    }
   ],
   "source": [
    "# Filename: integer_array_indexing_example2.py\n",
    "\n",
    "import numpy as np\n",
    "\n",
    "# Create a new array from which we will select elements\n",
    "a = np.array([[13, 14, 15], [16, 17, 18], [19, 20, 21], [22, 23, 24]])\n",
    "\n",
    "print(a)  # Output: [[13 14 15]\n",
    "          #          [16 17 18]\n",
    "          #          [19 20 21]\n",
    "          #          [22 23 24]]\n",
    "\n",
    "b = np.array([1, 0, 2, 1])  # Create an array of indices\n",
    "# Select one element from each row of a using the indices in b\n",
    "print(a[np.arange(4), b])  # Output: [14 16 21 23]\n",
    "# Modify one element from each row of a using the indices in b\n",
    "a[np.arange(4), b] += 5\n",
    "\n",
    "print(a)  # Output: [[13 19 15]\n",
    "          #          [21 17 18]\n",
    "          #          [19 20 26]\n",
    "          #          [22 28 24]]"
   ]
  }
 ],
 "metadata": {
  "kernelspec": {
   "display_name": "Python 3",
   "language": "python",
   "name": "python3"
  },
  "language_info": {
   "codemirror_mode": {
    "name": "ipython",
    "version": 3
   },
   "file_extension": ".py",
   "mimetype": "text/x-python",
   "name": "python",
   "nbconvert_exporter": "python",
   "pygments_lexer": "ipython3",
   "version": "3.13.7"
  }
 },
 "nbformat": 4,
 "nbformat_minor": 5
}
