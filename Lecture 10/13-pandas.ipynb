{
 "cells": [
  {
   "cell_type": "code",
   "execution_count": 1,
   "id": "d62c6e33",
   "metadata": {},
   "outputs": [
    {
     "name": "stdout",
     "output_type": "stream",
     "text": [
      "0    10\n",
      "1    20\n",
      "2    30\n",
      "3    40\n",
      "dtype: int64\n",
      "first     10\n",
      "second    20\n",
      "third     30\n",
      "fourth    40\n",
      "dtype: int64\n",
      "first     10\n",
      "second    20\n",
      "third     30\n",
      "fourth    40\n",
      "dtype: int64\n"
     ]
    }
   ],
   "source": [
    "# Filename: series_create.py\n",
    "    \n",
    "import pandas as pd\n",
    "\n",
    "# Creating a Series without specifying an index\n",
    "s1 = pd.Series([10, 20, 30, 40])\n",
    "print(s1)\n",
    "\n",
    "# Creating a Series with a custom index\n",
    "s2 = pd.Series([10, 20, 30, 40], \n",
    "               index=['first', 'second', 'third', 'fourth'])\n",
    "print(s2)\n",
    "\n",
    "# Creating a Series from a dictionary\n",
    "data = {'first': 10, 'second': 20, 'third': 30, 'fourth': 40}\n",
    "s3 = pd.Series(data)\n",
    "print(s3)"
   ]
  },
  {
   "cell_type": "code",
   "execution_count": 3,
   "id": "28cdf0a5",
   "metadata": {},
   "outputs": [
    {
     "name": "stdout",
     "output_type": "stream",
     "text": [
      "20\n",
      "30\n"
     ]
    }
   ],
   "source": [
    "# Filename: series_access_elements.py\n",
    "\n",
    "import pandas as pd\n",
    "\n",
    "# Create a series with specific index\n",
    "s = pd.Series([10, 20, 30, 40], index=['first', 'second', 'third', 'fourth'])\n",
    "\n",
    "# Access the element by label (element associated with index 'second')\n",
    "e1 = s.loc['second']\n",
    "print(e1)  # Print 20\n",
    "\n",
    "# Access the element in position 2 (3rd element)\n",
    "e2 = s.iloc[2]\n",
    "print(e2)  # Print 30"
   ]
  },
  {
   "cell_type": "code",
   "execution_count": 4,
   "id": "5e8dd40c",
   "metadata": {},
   "outputs": [
    {
     "name": "stdout",
     "output_type": "stream",
     "text": [
      "[10 20 30 40]\n",
      "Index(['first', 'second', 'third', 'fourth'], dtype='object')\n"
     ]
    }
   ],
   "source": [
    "# Filename: series_access_values_index.py\n",
    "\n",
    "import pandas as pd\n",
    "\n",
    "# Create a series with specific index\n",
    "s = pd.Series([10, 20, 30, 40], index=['first', 'second', 'third', 'fourth'])\n",
    "print(s.values)  # Return a NumPy array\n",
    "print(s.index)   # Return an Index object"
   ]
  },
  {
   "cell_type": "code",
   "execution_count": 5,
   "id": "23733b75",
   "metadata": {},
   "outputs": [
    {
     "name": "stdout",
     "output_type": "stream",
     "text": [
      "10\n",
      "10\n",
      "first     10\n",
      "second    50\n",
      "third     30\n",
      "dtype: int64\n"
     ]
    }
   ],
   "source": [
    "# Filename: series_assign_values.py        \n",
    "import pandas as pd\n",
    "\n",
    "# Create a series with specific index\n",
    "s = pd.Series([10, 20, 30], index=['first', 'second', 'third'])\n",
    "print(s.loc['first'])  # Access with explicit index\n",
    "print(s.iloc[0])       # Access with implicit index\n",
    "s.loc['second'] = 50   # Assign a new value\n",
    "print(s)"
   ]
  },
  {
   "cell_type": "code",
   "execution_count": 6,
   "id": "a0434781",
   "metadata": {},
   "outputs": [
    {
     "name": "stdout",
     "output_type": "stream",
     "text": [
      "third     30\n",
      "fourth    40\n",
      "fifth     50\n",
      "dtype: int64\n",
      "third     30\n",
      "fourth    40\n",
      "fifth     50\n",
      "dtype: int64\n"
     ]
    }
   ],
   "source": [
    "# Filename: series_slicing.py        \n",
    "import pandas as pd\n",
    "\n",
    "s = pd.Series([10, 20, 30, 40, 50, 60], \n",
    "       index=['first', 'second', 'third', 'fourth', 'fifth', 'sixth'])\n",
    "# Slicing with explicit index (both included)              \n",
    "print(s.loc['third':'fifth'])\n",
    "# Slicing with implicit index \n",
    "# (start included and stop excluded)\n",
    "print(s.iloc[2:5])"
   ]
  },
  {
   "cell_type": "code",
   "execution_count": 8,
   "id": "51e5c5b8",
   "metadata": {},
   "outputs": [
    {
     "name": "stdout",
     "output_type": "stream",
     "text": [
      "a    False\n",
      "b     True\n",
      "c     True\n",
      "d    False\n",
      "e    False\n",
      "dtype: bool\n",
      "b    15\n",
      "c    25\n",
      "dtype: int64\n",
      "a    10\n",
      "b     0\n",
      "c     0\n",
      "d     5\n",
      "e    30\n",
      "dtype: int64\n"
     ]
    }
   ],
   "source": [
    "# Filename: series_masking.py        \n",
    "import pandas as pd\n",
    "\n",
    "s = pd.Series([10, 15, 25, 5, 30], \n",
    "              index=['a', 'b', 'c', 'd', 'e'])\n",
    "mask = (s > 10) & (s < 30)  # Create a mask for values between 10 and 30\n",
    "print(mask)\n",
    "print(s[mask])  # Apply the mask to the series\n",
    "s[mask] = 0  # Modify elements of s where mask is True\n",
    "print(s)"
   ]
  },
  {
   "cell_type": "code",
   "execution_count": null,
   "id": "4391e549",
   "metadata": {},
   "outputs": [
    {
     "name": "stdout",
     "output_type": "stream",
     "text": [
      "first    10\n",
      "third    30\n",
      "dtype: int64\n",
      "first    10\n",
      "third    30\n",
      "dtype: int64\n"
     ]
    }
   ],
   "source": [
    "# Filename: series_fancy_indexing.py        \n",
    "import pandas as pd\n",
    "\n",
    "s = pd.Series([10, 20, 30, 40, 50], \n",
    "              index=['first', 'second', 'third', 'fourth', 'fifth'])\n",
    "print(s.loc[['first', 'third']])  # Access indices 'first' and 'third'\n",
    "print(s.iloc[[0, 2]])             # Access positions 0 and 2"
   ]
  }
 ],
 "metadata": {
  "kernelspec": {
   "display_name": "Python 3",
   "language": "python",
   "name": "python3"
  },
  "language_info": {
   "codemirror_mode": {
    "name": "ipython",
    "version": 3
   },
   "file_extension": ".py",
   "mimetype": "text/x-python",
   "name": "python",
   "nbconvert_exporter": "python",
   "pygments_lexer": "ipython3",
   "version": "3.13.7"
  }
 },
 "nbformat": 4,
 "nbformat_minor": 5
}
